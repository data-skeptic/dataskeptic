{
 "cells": [
  {
   "cell_type": "markdown",
   "metadata": {
    "slideshow": {
     "slide_type": "slide"
    }
   },
   "source": [
    "<table border=0><tr>\n",
    "<td><img src='strata-logo.png' /></td>\n",
    "<td>\n",
    "<center>\n",
    "Feb 17-20, 2015\n",
    "<br/>\n",
    "San Jose, CA\n",
    "</center>\n",
    "</td>\n",
    "</tr>\n",
    "<tr>\n",
    "<td colspan=2>\n",
    "<h1>Big Data Analytics Trends</h1>\n",
    "<h2>Kyle Polich</h2>\n",
    "<p><a href=\"http://datascience.com\">DataScience, Inc</a></p>\n",
    "<p><a href=\"http://dataskeptic.com\">The Data Skeptic Podcast</a></p>\n",
    "<p><a href=\"https://twitter.com/dataskeptic\">@dataskeptic</a></p>\n",
    "<p>kyle@datascience.com</p>\n",
    "</td>\n",
    "</tr>\n",
    "</table>"
   ]
  },
  {
   "cell_type": "markdown",
   "metadata": {
    "slideshow": {
     "slide_type": "slide"
    }
   },
   "source": [
    "# My High Level Take-aways\n",
    "\n",
    "* Hadoop is becoming to data what C/C++ are to programming\n",
    "* Spark is growing in support\n",
    "* R continues to grow, notably with Spark support\n"
   ]
  },
  {
   "cell_type": "markdown",
   "metadata": {
    "slideshow": {
     "slide_type": "slide"
    }
   },
   "source": [
    "#Thursday Keynotes"
   ]
  },
  {
   "cell_type": "markdown",
   "metadata": {
    "slideshow": {
     "slide_type": "fragment"
    }
   },
   "source": [
    "# Amr Awadallah (Cloudera)\n",
    "\n",
    "Hadoop enterprise data hub - Create a \"data lake\".  Centralized place, built on hadoop, to unify all data infrastructure.  Enables true 360 view and ability to move applications to the data.\n"
   ]
  },
  {
   "cell_type": "markdown",
   "metadata": {
    "slideshow": {
     "slide_type": "fragment"
    }
   },
   "source": [
    "Lisa Hammitt (Salesforce)\n",
    "-------------------------\n",
    "Some interesting anecdotes and case studies \n",
    "* SCSF using fitbit to study alzheimer's disease\n",
    "* Puffer fish takes 360 image with your phone and crowdsources wardrobe feedback\n",
    "\n",
    "\"Systems of engagement lead to systems of intelligence\"\n"
   ]
  },
  {
   "cell_type": "markdown",
   "metadata": {
    "slideshow": {
     "slide_type": "fragment"
    }
   },
   "source": [
    "Eric Frenkiel (MemSQL)\n",
    "----------------------\n",
    "* MemSQL Spark connector announced for more real time effort\n",
    "* Pinterest identifying 10k events per second to find geographic trends with real time search"
   ]
  },
  {
   "cell_type": "markdown",
   "metadata": {
    "slideshow": {
     "slide_type": "fragment"
    }
   },
   "source": [
    "DJ Patil\n",
    "--------\n",
    "Talk was pretty much rehash of previous talks he's given, but the exciting news was in the pre-taped intro from Obama announcing DJ as the first Chief Data Office for the USA.\n"
   ]
  },
  {
   "cell_type": "markdown",
   "metadata": {
    "slideshow": {
     "slide_type": "slide"
    }
   },
   "source": [
    "The Human-Data Interface: How to Design for Irrational Data Consumers\n",
    "---------------------------------------------------------------------\n",
    "* Cathy Tanimura (Okta)\n",
    "* Small schools fallacy\n",
    "* Random charts are convincing"
   ]
  },
  {
   "cell_type": "markdown",
   "metadata": {
    "slideshow": {
     "slide_type": "slide"
    }
   },
   "source": [
    "The Two Cultures of People Science\n",
    "----------------------------------\n",
    "* Michelangelo D'Agostino (Civis Analytics)\n",
    "* Civis pioneered data science on political campaigns, starting with Obama 2012\n",
    "* Talked about the overlap an disconnect between data science and social science"
   ]
  },
  {
   "cell_type": "markdown",
   "metadata": {
    "slideshow": {
     "slide_type": "slide"
    }
   },
   "source": [
    "Pro Bono Data Science in Action\n",
    "-------------------------------\n",
    "* Crisis Text Line started data driven\n",
    "* Noelle Sio (Pivotal) participated as part of Pivotal for Good via DataKind\n",
    "* Bob Filbin is Chief Data Scientist at Crisis Text Line\n",
    "* Basic analytics gave them an understanding of repeat users\n",
    "* Text analytics helped them detect intervention early"
   ]
  },
  {
   "cell_type": "markdown",
   "metadata": {
    "slideshow": {
     "slide_type": "slide"
    }
   },
   "source": [
    "Project Jupyter\n",
    "---------------\n",
    "* Jupyter is the next evolution of iPython Notebook\n",
    "* Providing language invariance similar to JVM / .NET\n",
    "* Notebooks currently allow one language; this is unlikely to change\n",
    "* New versions will focus more on collaboration and hosted notebooks.\n",
    "* They are working on authentication and easy docker integration\n",
    "* Multi-user server is currently in beta\n",
    "* Support for notebooks on Google Drive\n",
    "* Three speakers, one from Rackspace\n",
    "* bit.ly/inature"
   ]
  },
  {
   "cell_type": "markdown",
   "metadata": {
    "slideshow": {
     "slide_type": "slide"
    }
   },
   "source": [
    "FRIDAY\n",
    "======\n",
    "\n",
    "Keynotes\n",
    "--------\n",
    "* Eddie Garcia (Cloudera) pleading for secure by default\n",
    "* Eden Medina - Project Cybersyn\n",
    "* Roman Shaposhnik (Pivotal) - Open data platform alliance to create unified hadoop distributions"
   ]
  },
  {
   "cell_type": "markdown",
   "metadata": {
    "slideshow": {
     "slide_type": "slide"
    }
   },
   "source": [
    "#Matei Zaharia (Spark creator)\n",
    "\n",
    "* Growth of Spark is insane\n",
    "* 100 TB sort record set in 2014, 1/3 time, 1/10 machines compared to Hadoop record\n",
    "* In 2015:\n",
    "  * better high-level interfaces for data science, abstract cluster as if single machine; more platform interfaces - plugin data sources and algos\n",
    "  * Data frames being added to Spark in 1.3!\n",
    "  * Has an optimizer comparable to sql optimizer\n",
    "  * Spark 1.4 introduces interface to R.  Joining Scala, Java, and Python\n",
    "* http://databricks.com/moocs"
   ]
  },
  {
   "cell_type": "markdown",
   "metadata": {
    "slideshow": {
     "slide_type": "subslide"
    }
   },
   "source": [
    "<center>\n",
    "<h2>Spark is the most active top level Apache Project</h2>\n",
    "\n",
    "<img src=\"spark1.png\" width=700 />\n",
    "</center>"
   ]
  },
  {
   "cell_type": "markdown",
   "metadata": {
    "slideshow": {
     "slide_type": "subslide"
    }
   },
   "source": [
    "<center>\n",
    "<img src=\"sparkR.png\" />\n",
    "<br/>\n",
    "from joseph-rickert\n",
    "<a href=\"http://www.r-bloggers.com/a-first-look-at-spark/\">http://www.r-bloggers.com/a-first-look-at-spark/</a>\n",
    "</center>"
   ]
  },
  {
   "cell_type": "markdown",
   "metadata": {
    "slideshow": {
     "slide_type": "slide"
    }
   },
   "source": [
    "#Joseph Sirosh (Microsoft)\n",
    "\n",
    "* Connected cows - data into cloud for analysis\n",
    "* Able to predict estrus\n",
    "* Time of insemination effects success rate and gender"
   ]
  },
  {
   "cell_type": "markdown",
   "metadata": {
    "slideshow": {
     "slide_type": "subslide"
    }
   },
   "source": [
    "Jeffrey Heer (Trifecta)\n",
    "-----------------------\n",
    "* Interactive data lab at University of Washington\n",
    "* Original team creating D3\n",
    "* People celebrate bespoke graphics, but most graphics use defaults\n",
    "* Studies of effectiveness of graphics (need to look these up)\n",
    "  * Accuracy of Visual Decoding\n",
    "  * Comparing Quantities - best is position\n",
    "  * Color is leas accurate for quantitative data\n",
    "  * Augmenting ambiguity with parallel presentation\n",
    "* Trifecta working on algos to propose clearest presentation of data\n",
    "* Better data viz on penicilin data might have earlier identified an error made in the scientific community"
   ]
  },
  {
   "cell_type": "markdown",
   "metadata": {
    "slideshow": {
     "slide_type": "slide"
    }
   },
   "source": [
    "Designing Delightful Data Products\n",
    "----------------------------------\n",
    "* Alonzo Canda (Interana)\n",
    "* Observations - watching, asking, doing, and reflecting\n",
    "* Start with a need\n",
    "* Defer judgement\n",
    "* Gather different voices\n",
    "* Conduct experiments to validate assumptions\n",
    "* Borrowing good will - how splunk leveraged google"
   ]
  },
  {
   "cell_type": "markdown",
   "metadata": {
    "slideshow": {
     "slide_type": "slide"
    }
   },
   "source": [
    "Architecting Interfaces that Learn\n",
    "----------------------------------\n",
    "* Tye Rattenbury & Jeffrey Heer (Trifacta)\n",
    "* Kind of a weak talk, but Trifacta is cool"
   ]
  },
  {
   "cell_type": "markdown",
   "metadata": {
    "slideshow": {
     "slide_type": "slide"
    }
   },
   "source": [
    "Data Science vs. The Bad Guys\n",
    "-----------------------------\n",
    "* David Freeman - Fraud detection at linkedin\n",
    "* Their challenges include fake accounts, stolen accounts, and scraping\n",
    "* Precision/recall tradeoffs are a challenge\n",
    "* Online/offline trade off\n",
    "* Models are pretty simple bayesian approaches, key insight is activity abstraction\n",
    "* They often apply heuristics to get 90%, then ML on top"
   ]
  },
  {
   "cell_type": "markdown",
   "metadata": {
    "slideshow": {
     "slide_type": "slide"
    }
   },
   "source": [
    "VENDORS\n",
    "=======\n",
    "* Trifecta\n",
    "* Dato\n",
    "* Dataiku\n",
    "* Paxata\n",
    "* Zoomdata"
   ]
  },
  {
   "cell_type": "markdown",
   "metadata": {
    "slideshow": {
     "slide_type": "slide"
    }
   },
   "source": [
    "<center>\n",
    "<h1>Thank you!</h1>\n",
    "<table>\n",
    "<tr>\n",
    "<td><img src=\"datascienceTOP.png\" width=300 /></td>\n",
    "<td><img src=\"ituneslogo.png\" /></td>\n",
    "</tr>\n",
    "<tr>\n",
    "<td align=\"center\">kyle@datascience.com\n",
    "<br/>\n",
    "We are hiring http://bit.ly/1LvAAVc\n",
    "</td>\n",
    "<td align=\"center\">@DataSkeptic</td>\n",
    "</tr>\n",
    "</table>\n",
    "</center>\n"
   ]
  }
 ],
 "metadata": {
  "celltoolbar": "Slideshow",
  "kernelspec": {
   "display_name": "Python 2",
   "language": "python",
   "name": "python2"
  },
  "language_info": {
   "codemirror_mode": {
    "name": "ipython",
    "version": 2
   },
   "file_extension": ".py",
   "mimetype": "text/x-python",
   "name": "python",
   "nbconvert_exporter": "python",
   "pygments_lexer": "ipython2",
   "version": "2.7.6"
  }
 },
 "nbformat": 4,
 "nbformat_minor": 0
}
