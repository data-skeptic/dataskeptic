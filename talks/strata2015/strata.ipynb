{
 "cells": [
  {
   "cell_type": "code",
   "execution_count": null,
   "metadata": {
    "collapsed": false,
    "slideshow": {
     "slide_type": "skip"
    }
   },
   "outputs": [],
   "source": [
    "# %load 'custom.css'\n",
    "<style>\n",
    "\n",
    "@font-face {\n",
    "    font-family: \"Computer Modern\";\n",
    "    src: url('http://mirrors.ctan.org/fonts/cm-unicode/fonts/otf/cmunss.otf');\n",
    "}\n",
    "#notebook_panel { /* main background */\n",
    "    background: #888;\n",
    "    color: #f6f6f6;\n",
    "}\n",
    "#notebook li { /* More space between bullet points */\n",
    "margin-top:0.8em;\n",
    "}\n",
    "</style>\n",
    "\n"
   ]
  },
  {
   "cell_type": "markdown",
   "metadata": {
    "slideshow": {
     "slide_type": "slide"
    }
   },
   "source": [
    "<table border=0 cellpadding=10><tr>\n",
    "<td><img src='strata-logo.png' /></td>\n",
    "<td>\n",
    "<center>\n",
    "Feb 17-20, 2015\n",
    "<br/>\n",
    "San Jose, CA\n",
    "</center>\n",
    "</td>\n",
    "</tr>\n",
    "<tr>\n",
    "<td colspan=2>\n",
    "<h1>Big Data Analytics Trends</h1>\n",
    "<h2>Kyle Polich</h2>\n",
    "<p><a href=\"http://datascience.com\">DataScience, Inc</a></p>\n",
    "<p><a href=\"http://dataskeptic.com\">The Data Skeptic Podcast</a></p>\n",
    "<p><a href=\"https://twitter.com/dataskeptic\">@dataskeptic</a></p>\n",
    "<p><a href=\"mailto:kyle@datascience.com\">kyle@datascience.com</a></p>\n",
    "</td>\n",
    "</tr>\n",
    "<tr>\n",
    "<td colspan=2 align=center>\n",
    "My slides are available online at:<br/>\n",
    "<a href=\"http://dataskeptic.com/talks/strata2015/\">http://dataskeptic.com/talks/strata2015/</a>\n",
    "</td>\n",
    "</tr>\n",
    "</table>"
   ]
  },
  {
   "cell_type": "markdown",
   "metadata": {
    "slideshow": {
     "slide_type": "slide"
    }
   },
   "source": [
    "<h1>Thanks to...</h1>\n",
    "<table>\n",
    "<tr>\n",
    "<td><img src=\"dsla.jpg\"/></td>\n",
    "<td>Where I won a free conference badge</td>\n",
    "</tr>\n",
    "<tr>\n",
    "<td><img src=\"oreilly.gif\" /></td>\n",
    "<td>Who provide the past and organized the conference</td>\n",
    "</tr>\n",
    "<tr>\n",
    "<td><img src=\"ibm.jpg\" width=300 /></td>\n",
    "<td>IBM and Alex Liu who host this meetup</td>\n",
    "</tr>\n",
    "</table>"
   ]
  },
  {
   "cell_type": "markdown",
   "metadata": {
    "slideshow": {
     "slide_type": "slide"
    }
   },
   "source": [
    "# My High Level Take-aways\n",
    "\n",
    "* Hadoop is becoming to data what C/C++ are to programming\n",
    "* Spark is growing in support\n",
    "* Streaming and in-memory are strong themes\n",
    "* R continues to grow, notably with Spark support\n",
    "* Continued growth in deep learning applications and tools\n",
    "* Nothing exciting about text analysis (NLP winter?)\n",
    "* Data Cleansing becoming a more noteworthy topic\n",
    "  * Trifacta\n",
    "  * Paxata\n",
    "  * Open Refine\n",
    "  * And more\n"
   ]
  },
  {
   "cell_type": "markdown",
   "metadata": {
    "slideshow": {
     "slide_type": "subslide"
    }
   },
   "source": [
    "<img src=\"paxata.jpg\" width=600 />"
   ]
  },
  {
   "cell_type": "markdown",
   "metadata": {
    "slideshow": {
     "slide_type": "subslide"
    }
   },
   "source": [
    "<img src=\"hot.png\" width=500/>\n",
    "<br/>\n",
    "Source: <a href=\"http://redmonk.com/dberkholz/2015/02/17/strata-2015-reaching-for-the-business-user/\">http://redmonk.com/dberkholz/2015/02/17/strata-2015-reaching-for-the-business-user/</a>"
   ]
  },
  {
   "cell_type": "markdown",
   "metadata": {
    "slideshow": {
     "slide_type": "slide"
    }
   },
   "source": [
    "#Thursday Keynotes"
   ]
  },
  {
   "cell_type": "markdown",
   "metadata": {
    "slideshow": {
     "slide_type": "subslide"
    }
   },
   "source": [
    "# Amr Awadallah (Cloudera)\n",
    "\n",
    "* Hadoop enterprise data hub\n",
    "* Centralized place, built on hadoop, to unify all data infrastructure\n",
    "* Enables true 360 view and ability to move applications to the data.\n",
    "* Create a \"data lake\"\n",
    "\n",
    "<img src=\"hadoopenterprise.jpg\" />"
   ]
  },
  {
   "cell_type": "markdown",
   "metadata": {
    "slideshow": {
     "slide_type": "subslide"
    }
   },
   "source": [
    "Lisa Hammitt (Salesforce)\n",
    "-------------------------\n",
    "Some interesting anecdotes and case studies \n",
    "* SCSF using fitbit to study alzheimer's disease\n",
    "* Puffer fish takes 360 image with your phone and crowdsources wardrobe feedback\n",
    "\n",
    "\"Systems of engagement lead to systems of intelligence\"\n"
   ]
  },
  {
   "cell_type": "markdown",
   "metadata": {
    "slideshow": {
     "slide_type": "subslide"
    }
   },
   "source": [
    "# Eric Frenkiel (MemSQL)\n",
    "\n",
    "* MemSQL Spark connector announced for more real time effort\n",
    "* Pinterest identifying 10k events per second to find geographic trends with real time search\n",
    "\n",
    "<img src=\"memsql.gif\" width=700 />\n",
    "\n",
    "Source: <a href=\"http://blog.memsql.com/pinterest-apache-spark-use-case/\">http://blog.memsql.com/pinterest-apache-spark-use-case/</a>"
   ]
  },
  {
   "cell_type": "markdown",
   "metadata": {
    "slideshow": {
     "slide_type": "subslide"
    }
   },
   "source": [
    "#DJ Patil\n",
    "\n",
    "* Announced as first Chief Data Officer for US\n",
    "* \"Data science is a team sport\"\n",
    "* Medicine and medical records should be a focus\n",
    "* Data scientists should be focused on responsibility and making a difference\n",
    "* Commitment to open data"
   ]
  },
  {
   "cell_type": "markdown",
   "metadata": {
    "slideshow": {
     "slide_type": "subslide"
    }
   },
   "source": [
    "<iframe width=\"560\" height=\"315\" src=\"https://www.youtube.com/embed/vbb-AjiXyh0\" frameborder=\"0\" allowfullscreen></iframe>"
   ]
  },
  {
   "cell_type": "markdown",
   "metadata": {
    "slideshow": {
     "slide_type": "slide"
    }
   },
   "source": [
    "The Human-Data Interface: How to Design for Irrational Data Consumers\n",
    "---------------------------------------------------------------------\n",
    "* Cathy Tanimura (Okta)\n",
    "* Small schools fallacy\n",
    "* Random charts are convincing"
   ]
  },
  {
   "cell_type": "markdown",
   "metadata": {
    "slideshow": {
     "slide_type": "slide"
    }
   },
   "source": [
    "The Two Cultures of People Science\n",
    "----------------------------------\n",
    "* Michelangelo D'Agostino (Civis Analytics)\n",
    "* Civis pioneered data science on political campaigns, starting with Obama 2012\n",
    "* Talked about the overlap an disconnect between data science and social science"
   ]
  },
  {
   "cell_type": "markdown",
   "metadata": {
    "slideshow": {
     "slide_type": "slide"
    }
   },
   "source": [
    "# Pro Bono Data Science in Action\n",
    "\n",
    "* Crisis Text Line started data driven\n",
    "* Noelle Sio (Pivotal) participated as part of Pivotal for Good via DataKind\n",
    "* Bob Filbin is Chief Data Scientist at Crisis Text Line\n",
    "* Basic analytics gave them an understanding of repeat users\n",
    "* Text analytics helped them detect intervention early\n",
    "\n",
    "<img src=\"crisistext.png\" />\n",
    "\n",
    "Source: <a href=\"http://blog.pivotal.io/data-science-pivotal/features/pivotal-for-good-with-crisis-text-line-a-first-look\">http://blog.pivotal.io/data-science-pivotal/features/pivotal-for-good-with-crisis-text-line-a-first-look</a>"
   ]
  },
  {
   "cell_type": "markdown",
   "metadata": {
    "slideshow": {
     "slide_type": "slide"
    }
   },
   "source": [
    "# Project Jupyter\n",
    "\n",
    "* Jupyter is the next evolution of iPython Notebook\n",
    "* Providing language invariance similar to JVM\n",
    "* Notebooks currently allow one language; this is unlikely to change\n",
    "* New versions will focus more on collaboration and hosted notebooks.\n",
    "* They are working on authentication and easy docker integration\n",
    "* Multi-user server is currently in beta\n",
    "* Support for notebooks on Google Drive\n",
    "* <a href=\"bit.ly/inature\">bit.ly/inature</a>\n",
    "\n",
    "* Perhaps a demo at the end of my talk"
   ]
  },
  {
   "cell_type": "markdown",
   "metadata": {
    "slideshow": {
     "slide_type": "slide"
    }
   },
   "source": [
    "FRIDAY\n",
    "======\n",
    "\n",
    "Keynotes\n",
    "--------\n",
    "* Eddie Garcia (Cloudera) pleading for secure by default\n",
    "* Eden Medina - Project Cybersyn\n",
    "* Roman Shaposhnik (Pivotal) - Open data platform alliance to create unified hadoop distributions"
   ]
  },
  {
   "cell_type": "markdown",
   "metadata": {
    "slideshow": {
     "slide_type": "slide"
    }
   },
   "source": [
    "#Matei Zaharia (Spark creator)\n",
    "\n",
    "* Growth of Spark is insane\n",
    "* 100 TB sort record set in 2014, 1/3 time, 1/10 machines compared to Hadoop record\n",
    "* In 2015:\n",
    "  * better high-level interfaces for data science, abstract cluster as if single machine; more platform interfaces - plugin data sources and algos\n",
    "  * Data frames being added to Spark in 1.3!\n",
    "  * Has an optimizer comparable to sql optimizer\n",
    "  * Spark 1.4 introduces interface to R.  Joining Scala, Java, and Python\n",
    "* http://databricks.com/moocs"
   ]
  },
  {
   "cell_type": "markdown",
   "metadata": {
    "slideshow": {
     "slide_type": "subslide"
    }
   },
   "source": [
    "<img src=\"100tb.png\" />"
   ]
  },
  {
   "cell_type": "markdown",
   "metadata": {
    "slideshow": {
     "slide_type": "subslide"
    }
   },
   "source": [
    "<center>\n",
    "<h2>Spark is the most active top level Apache Project</h2>\n",
    "\n",
    "<img src=\"spark1.png\" width=700 />\n",
    "</center>"
   ]
  },
  {
   "cell_type": "markdown",
   "metadata": {
    "slideshow": {
     "slide_type": "subslide"
    }
   },
   "source": [
    "<center>\n",
    "<img src=\"sparkR.png\" />\n",
    "<br/>\n",
    "from joseph-rickert\n",
    "<a href=\"http://www.r-bloggers.com/a-first-look-at-spark/\">http://www.r-bloggers.com/a-first-look-at-spark/</a>\n",
    "</center>"
   ]
  },
  {
   "cell_type": "markdown",
   "metadata": {
    "slideshow": {
     "slide_type": "slide"
    }
   },
   "source": [
    "#Joseph Sirosh (Microsoft)\n",
    "\n",
    "* Connected cows - data into cloud for analysis\n",
    "* Able to predict estrus\n",
    "* Time of insemination effects success rate and gender\n",
    "\n",
    "<blockquote class=\"twitter-tweet\" lang=\"en\"><p>Re that connected cow: scientists can determine gender of cow on timing of artificial insemination <a href=\"https://twitter.com/hashtag/StrataHadoop?src=hash\">#StrataHadoop</a> <a href=\"https://twitter.com/hashtag/IoT?src=hash\">#IoT</a> <a href=\"http://t.co/CuI3mcc1PO\">pic.twitter.com/CuI3mcc1PO</a></p>&mdash; Kathy Yu (@kathykmy) <a href=\"https://twitter.com/kathykmy/status/568833478034264064\">February 20, 2015</a></blockquote>\n",
    "<script async src=\"//platform.twitter.com/widgets.js\" charset=\"utf-8\"></script>"
   ]
  },
  {
   "cell_type": "markdown",
   "metadata": {
    "slideshow": {
     "slide_type": "slide"
    }
   },
   "source": [
    "#Jeffrey Heer (Trifecta)\n",
    "\n",
    "* Interactive data lab at University of Washington\n",
    "* Original team creating D3\n",
    "* People celebrate bespoke graphics, but most graphics use defaults\n",
    "* Studies of effectiveness of graphics (need to look these up)\n",
    "  * Accuracy of Visual Decoding\n",
    "  * Comparing Quantities - best is position\n",
    "  * Color is leas accurate for quantitative data\n",
    "  * Augmenting ambiguity with parallel presentation\n",
    "* Trifecta working on algos to propose clearest presentation of data\n",
    "* Better data viz on penicilin data might have earlier identified an error made in the scientific community"
   ]
  },
  {
   "cell_type": "markdown",
   "metadata": {
    "slideshow": {
     "slide_type": "slide"
    }
   },
   "source": [
    "Designing Delightful Data Products\n",
    "----------------------------------\n",
    "* Alonzo Canda (Interana)\n",
    "* Observations - watching, asking, doing, and reflecting\n",
    "* Start with a need\n",
    "* Defer judgement\n",
    "* Gather different voices\n",
    "* Conduct experiments to validate assumptions\n",
    "* Borrowing good will - how splunk leveraged google"
   ]
  },
  {
   "cell_type": "markdown",
   "metadata": {
    "slideshow": {
     "slide_type": "slide"
    }
   },
   "source": [
    "Architecting Interfaces that Learn\n",
    "----------------------------------\n",
    "* Tye Rattenbury & Jeffrey Heer (Trifacta)\n",
    "* Kind of a weak talk, but Trifacta is cool"
   ]
  },
  {
   "cell_type": "markdown",
   "metadata": {
    "slideshow": {
     "slide_type": "slide"
    }
   },
   "source": [
    "Data Science vs. The Bad Guys\n",
    "-----------------------------\n",
    "* David Freeman - Fraud detection at linkedin\n",
    "* Their challenges include fake accounts, stolen accounts, and scraping\n",
    "* Precision/recall tradeoffs are a challenge\n",
    "* Online/offline trade off\n",
    "* Models are pretty simple bayesian approaches, key insight is activity abstraction\n",
    "* They often apply heuristics to get 90%, then ML on top"
   ]
  },
  {
   "cell_type": "markdown",
   "metadata": {
    "slideshow": {
     "slide_type": "slide"
    }
   },
   "source": [
    "<center>\n",
    "<table>\n",
    "<tr>\n",
    "<td colspan=3><center>\n",
    "<h1>Thank you!</h1>\n",
    "</center></td>\n",
    "<tr>\n",
    "<td><a href=\"http://datascience.com\"><img src=\"datascienceTOP.png\" width=300 /></a></td>\n",
    "<td>&nbsp;&nbsp;&nbsp;&nbsp;&nbsp;</td>\n",
    "<td><a href=\"http://dataskeptic.com\"><img src=\"ituneslogo.png\" width=300 /></a></td>\n",
    "</tr>\n",
    "<tr>\n",
    "<td align=\"center\">\n",
    "<center>\n",
    "<a href=\"mailto:kyle@datascience.com\">kyle@datascience.com</a>\n",
    "<br/>\n",
    "We are hiring <a href=\"http://bit.ly/1LvAAVc\">http://bit.ly/1LvAAVc</a>\n",
    "</center>\n",
    "</td>\n",
    "<td>&nbsp;&nbsp;&nbsp;&nbsp;&nbsp;</td>\n",
    "<td align=\"center\">\n",
    "<center>\n",
    "<a href=\"https://twitter.com/dataskeptic\">@DataSkeptic</a>\n",
    "</center>\n",
    "</td>\n",
    "</tr>\n",
    "</table>\n",
    "</center>\n"
   ]
  }
 ],
 "metadata": {
  "celltoolbar": "Slideshow",
  "kernelspec": {
   "display_name": "Python 2",
   "language": "python",
   "name": "python2"
  },
  "language_info": {
   "codemirror_mode": {
    "name": "ipython",
    "version": 2
   },
   "file_extension": ".py",
   "mimetype": "text/x-python",
   "name": "python",
   "nbconvert_exporter": "python",
   "pygments_lexer": "ipython2",
   "version": "2.7.9"
  }
 },
 "nbformat": 4,
 "nbformat_minor": 0
}
