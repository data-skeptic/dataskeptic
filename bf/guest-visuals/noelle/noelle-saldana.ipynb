{
 "cells": [
  {
   "cell_type": "code",
   "execution_count": 1,
   "metadata": {
    "collapsed": true
   },
   "outputs": [],
   "source": [
    "%matplotlib inline\n",
    "import matplotlib.pyplot as plt\n",
    "import numpy as np\n",
    "from datetime import datetime\n",
    "import pandas as pd\n",
    "import time"
   ]
  },
  {
   "cell_type": "code",
   "execution_count": 2,
   "metadata": {
    "collapsed": false
   },
   "outputs": [],
   "source": [
    "import json\n",
    "from twython import Twython\n",
    "import ConfigParser\n",
    "from dateutil import parser\n",
    "\n",
    "propertiesFile = \"my.properties\"\n",
    "cp = ConfigParser.ConfigParser()\n",
    "cp.readfp(open(propertiesFile))\n",
    "\n",
    "APP_KEY            = cp.get('Params', 'app_key')\n",
    "APP_SECRET         = cp.get('Params', 'app_secret')\n",
    "OAUTH_TOKEN        = cp.get('Params', 'oauth_token')\n",
    "OAUTH_TOKEN_SECRET = cp.get('Params', 'oauth_token_secret')\n",
    "\n",
    "twitter = Twython(APP_KEY, APP_SECRET, OAUTH_TOKEN, OAUTH_TOKEN_SECRET)"
   ]
  },
  {
   "cell_type": "code",
   "execution_count": null,
   "metadata": {
    "collapsed": true
   },
   "outputs": [],
   "source": [
    "tname = 'noellesio'\n",
    "data = twitter.show_user(screen_name=tname)"
   ]
  },
  {
   "cell_type": "code",
   "execution_count": null,
   "metadata": {
    "collapsed": false
   },
   "outputs": [
    {
     "name": "stdout",
     "output_type": "stream",
     "text": [
      "535243259602546689\n",
      "424121758929915904\n",
      "132706422608769024\n",
      "1790402056"
     ]
    }
   ],
   "source": [
    "dts = []\n",
    "tweets = twitter.get_user_timeline(screen_name=tname, count=200)\n",
    "while len(tweets) > 0:\n",
    "    for tweet in tweets:\n",
    "        dt = pd.to_datetime(tweet['created_at']) - pd.DateOffset(hours=8)\n",
    "        dts.append(dt)\n",
    "    last = tweet['id']\n",
    "    print last\n",
    "    tweets = twitter.get_user_timeline(screen_name=tname, count=200, max_id = last-1)\n",
    "    time.sleep(1)"
   ]
  },
  {
   "cell_type": "code",
   "execution_count": null,
   "metadata": {
    "collapsed": false
   },
   "outputs": [],
   "source": [
    "tseries = pd.Series(dts)\n",
    "df = pd.DataFrame({'dow': tseries.apply(lambda x: x.dayofweek), 'hour': tseries.apply(lambda x: x.hour), 'c': 1})"
   ]
  },
  {
   "cell_type": "code",
   "execution_count": null,
   "metadata": {
    "collapsed": false
   },
   "outputs": [],
   "source": [
    "gb = pd.DataFrame(df.groupby(['dow', 'hour'])['c'].sum())\n",
    "gb.reset_index(inplace=True)\n",
    "plt.figure(figsize=(15,5))\n",
    "plt.scatter(gb.hour, gb.dow, s=gb.c * 20)\n",
    "plt.xlabel('Hour of day', fontsize=16)\n",
    "plt.title('@NoelleSio tweet punchcard', fontsize=16)\n",
    "plt.xlim(-1, 24)\n",
    "plt.yticks(np.arange(7), ['Sunday', 'Monday', 'Tuesday', 'Wednesday', 'Thursday', 'Friday', 'Saturday'])\n",
    "h=np.arange(8)*3\n",
    "plt.xticks(h, h)\n",
    "plt.savefig('noelle.png')\n",
    "plt.show()"
   ]
  }
 ],
 "metadata": {
  "kernelspec": {
   "display_name": "Python 2",
   "language": "python",
   "name": "python2"
  },
  "language_info": {
   "codemirror_mode": {
    "name": "ipython",
    "version": 2
   },
   "file_extension": ".py",
   "mimetype": "text/x-python",
   "name": "python",
   "nbconvert_exporter": "python",
   "pygments_lexer": "ipython2",
   "version": "2.7.9"
  }
 },
 "nbformat": 4,
 "nbformat_minor": 0
}
