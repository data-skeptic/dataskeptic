{
 "cells": [
  {
   "cell_type": "markdown",
   "metadata": {
    "_datascience": {}
   },
   "source": [
    "# k-d Trees"
   ]
  },
  {
   "cell_type": "markdown",
   "metadata": {
    "_datascience": {}
   },
   "source": [
    "This episode reviews the concept of k-d trees: an efficient data structure for holding multidimensional objects.  Kyle gives Linhda a dictionary and asks her to look up words as a way of introducing the concept of binary search.  We actually spend most of the episode talking about binary search before getting into k-d trees, but this is a necessary prerequisite."
   ]
  },
  {
   "cell_type": "markdown",
   "metadata": {
    "_datascience": {},
    "collapsed": true
   },
   "source": [
    "For a solid example in Python, check out the [SciPy Cookbook KDTree example](http://scipy-cookbook.readthedocs.org/items/KDTree_example.html)"
   ]
  }
 ],
 "metadata": {
  "_datascience": {},
  "kernelspec": {
   "display_name": "Python 2",
   "language": "python",
   "name": "python2"
  },
  "language_info": {
   "codemirror_mode": {
    "name": "ipython",
    "version": 2
   },
   "file_extension": ".py",
   "mimetype": "text/x-python",
   "name": "python",
   "nbconvert_exporter": "python",
   "pygments_lexer": "ipython2",
   "version": "2.7.6"
  }
 },
 "nbformat": 4,
 "nbformat_minor": 0
}
