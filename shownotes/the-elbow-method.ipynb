{
 "cells": [
  {
   "cell_type": "markdown",
   "metadata": {
    "_datascience": {}
   },
   "source": [
    "# The Elbow Method\n",
    "\n",
    "Certain data mining algorithms (including k-means clustering and k-nearest neighbors) require a user defined parameter *k*.  A user of these algorithms is required to select this value, which raises the questions: what is the \"best\" value of *k* that one should select to solve their problem?\n",
    "\n",
    "This mini-episode explores the appropriate value of *k* to use when trying to estimate the cost of a house in Los Angeles based on the closests sales in it's area."
   ]
  },
  {
   "cell_type": "markdown",
   "metadata": {
    "_datascience": {}
   },
   "source": [
    "The end of these show nows also shows a slightly more canonical use of The Elbow Method for a clustering problem, which is a more typical use case."
   ]
  },
  {
   "cell_type": "code",
   "execution_count": 9,
   "metadata": {
    "ExecuteTime": {
     "end_time": "2016-03-18T14:40:40.204260",
     "start_time": "2016-03-18T14:40:39.882034"
    },
    "_datascience": {},
    "collapsed": false
   },
   "outputs": [
    {
     "name": "stderr",
     "output_type": "stream",
     "text": [
      "/usr/local/lib/python2.7/dist-packages/matplotlib/__init__.py:872: UserWarning: axes.color_cycle is deprecated and replaced with axes.prop_cycle; please use the latter.\n",
      "  warnings.warn(self.msg_depr % (key, alt_key))\n"
     ]
    }
   ],
   "source": [
    "%matplotlib inline\n",
    "import os\n",
    "import json\n",
    "import pickle\n",
    "import geocoder\n",
    "import math\n",
    "import random\n",
    "import pandas as pd\n",
    "import numpy as np\n",
    "from scipy.spatial import cKDTree\n",
    "import matplotlib.pyplot as plt"
   ]
  },
  {
   "cell_type": "code",
   "execution_count": 3,
   "metadata": {
    "_datascience": {},
    "collapsed": true
   },
   "outputs": [],
   "source": [
    "addresses = {}"
   ]
  },
  {
   "cell_type": "code",
   "execution_count": 4,
   "metadata": {
    "_datascience": {},
    "collapsed": false
   },
   "outputs": [],
   "source": [
    "root = '../data/'\n",
    "allfiles = []\n",
    "dirs = os.listdir(root)\n",
    "for d in dirs:\n",
    "    files = os.listdir(root + d)\n",
    "    for f in files:\n",
    "        allfiles.append(root + d + '/' + f)"
   ]
  },
  {
   "cell_type": "code",
   "execution_count": 544,
   "metadata": {
    "_datascience": {},
    "collapsed": false
   },
   "outputs": [
    {
     "data": {
      "text/plain": [
       "166212"
      ]
     },
     "execution_count": 544,
     "metadata": {},
     "output_type": "execute_result"
    }
   ],
   "source": [
    "random.shuffle(allfiles)\n",
    "len(allfiles)"
   ]
  },
  {
   "cell_type": "code",
   "execution_count": 45,
   "metadata": {
    "_datascience": {},
    "collapsed": true
   },
   "outputs": [],
   "source": [
    "def persist(addresses):\n",
    "    save = {}\n",
    "    for key in addresses.keys():\n",
    "        addr = addresses[key]\n",
    "        val = addr.latlng\n",
    "        val.append(addr.accuracy)\n",
    "        save[key] = val\n",
    "    #\n",
    "    h = open('addresses.pkl', 'wb')\n",
    "    pickle.dump(save, h)\n",
    "    h.close()"
   ]
  },
  {
   "cell_type": "code",
   "execution_count": 120,
   "metadata": {
    "_datascience": {},
    "collapsed": true
   },
   "outputs": [],
   "source": [
    "def flatten(sarr):\n",
    "    if type(sarr) == str or type(sarr) == unicode:\n",
    "        return sarr\n",
    "    res = ''\n",
    "    for s in sarr:\n",
    "        s = s.strip()\n",
    "        if len(s) > 0:\n",
    "            if len(res) > 0:\n",
    "                res += s + ', '\n",
    "            else:\n",
    "                res = s\n",
    "    return res"
   ]
  },
  {
   "cell_type": "code",
   "execution_count": 314,
   "metadata": {
    "_datascience": {},
    "collapsed": true
   },
   "outputs": [],
   "source": [
    "def numClean(x):\n",
    "    if x is None:\n",
    "        return None\n",
    "    if x == '':\n",
    "        return None\n",
    "    if type(x) == float:\n",
    "        return x\n",
    "    try:\n",
    "        return float(x.replace('$', '').replace(',', ''))\n",
    "    except ValueError:\n",
    "        return None"
   ]
  },
  {
   "cell_type": "code",
   "execution_count": 306,
   "metadata": {
    "_datascience": {},
    "collapsed": false
   },
   "outputs": [],
   "source": [
    "def clean_details(details, blockLLMap):\n",
    "    c = 0\n",
    "    details['Legals'] = flatten(details['Legals'])\n",
    "    if details.has_key('Improvements'):\n",
    "        di = details['Improvements']\n",
    "        if len(di)>0:\n",
    "            imps = di[0]\n",
    "            for key in imps.keys():\n",
    "                val = imps[key]\n",
    "                details['improve_' + key] = val\n",
    "            del details['Improvements']\n",
    "        convertFields = ['SalePrice', 'FIXEVEV', 'FIXTVAL', 'HOEVAL', 'IMPROVAL', 'LANDVAL', 'PPEXEVAL', 'PPVALUE', 'REEXEVAL', 'improve_BDLBATH', 'improve_BDLBDRM', 'improve_BDLEFFYR', 'improve_BDLSQMAIN', 'improve_BDLUNITS', 'improve_BDLYRBLT']\n",
    "        for cf in convertFields:\n",
    "            if details.has_key(cf):\n",
    "                details[cf] = numClean(details[cf])\n",
    "    head = int(details['AIN'])/1000 * 1000 + 1\n",
    "    try:\n",
    "        ll = blockLLMap[head]\n",
    "        details['latitude'] = ll.lat\n",
    "        details['longitude'] = ll.lng\n",
    "    except KeyError:\n",
    "        return details\n",
    "    return details"
   ]
  },
  {
   "cell_type": "markdown",
   "metadata": {
    "_datascience": {}
   },
   "source": [
    "I'm far from being an expert on these AIN numbers, but it's clear there's some order to them.  For my application, I'm comfortable saying that every parcel on the same block can be considered to have a distance of 0.  This will save me the pain of trying to geocode hundreds of thousands of addresses.  I might later work on putting some offset in based on the data I already have.  For now, let's grab every AIN that appears to be at the \"head\" of a block."
   ]
  },
  {
   "cell_type": "code",
   "execution_count": 152,
   "metadata": {
    "_datascience": {},
    "collapsed": false
   },
   "outputs": [
    {
     "name": "stdout",
     "output_type": "stream",
     "text": [
      "Error on:  ../data/old/addresses.pkl.pkl\n",
      "Completed 0.601641277405 1\n",
      "Completed 1.20328255481 1\n",
      "Completed 1.80492383221 1\n"
     ]
    }
   ],
   "source": [
    "errcount = 0\n",
    "c = 0\n",
    "blockLLMap = {}\n",
    "alldetails = []\n",
    "for f in allfiles:\n",
    "    try:\n",
    "        data = json.loads(pickle.load(open(f, 'r')).text)\n",
    "        details = data['results']['ParcelDetails']\n",
    "        if details:\n",
    "            if int(details['AIN']) % 1000 == 1:\n",
    "                addr = details['Address1'] + ' ' + details['Address2']\n",
    "                try:\n",
    "                    loc = addresses[addr]\n",
    "                    c += 1\n",
    "                except KeyError:\n",
    "                    print 'Lookup', addr\n",
    "                    loc = geocoder.google(addr)\n",
    "                    addresses[addr] = loc\n",
    "                blockLLMap[int(details['AIN'])] = loc\n",
    "                if c % 1000 == 0:\n",
    "                    print 'Completed', 100.0 * c / len(allfiles), errcount\n",
    "            alldetails.append(details)\n",
    "    except:\n",
    "        print 'Error on: ', f\n",
    "        errcount += 1\n",
    "        if errcount>10:\n",
    "            break\n",
    "\n",
    "# Since I did a bunch of slow API lookups, let's cache this in case I want to use it again in the future.\n",
    "persist(addresses)"
   ]
  },
  {
   "cell_type": "code",
   "execution_count": 214,
   "metadata": {
    "_datascience": {},
    "collapsed": false
   },
   "outputs": [],
   "source": [
    "# Do data cleaning\n",
    "errcount = 0\n",
    "c = 0\n",
    "all2 = []\n",
    "for details in alldetails:\n",
    "    details = clean_details(details, blockLLMap)\n",
    "    all2.append(details)\n",
    "\n",
    "df = pd.DataFrame(all2)"
   ]
  },
  {
   "cell_type": "code",
   "execution_count": 254,
   "metadata": {
    "_datascience": {},
    "collapsed": false
   },
   "outputs": [
    {
     "data": {
      "text/plain": [
       "63045"
      ]
     },
     "execution_count": 254,
     "metadata": {},
     "output_type": "execute_result"
    }
   ],
   "source": [
    "# See how many latitudes are missing given my assumption\n",
    "df['latitude'].apply(lambda x: math.isnan(x)).sum()"
   ]
  },
  {
   "cell_type": "markdown",
   "metadata": {
    "_datascience": {}
   },
   "source": [
    "There are enough lat/lngs missing that I want to fill in some of the blanks.  Luckily, there's a lot but it's manageable with a long running script."
   ]
  },
  {
   "cell_type": "code",
   "execution_count": null,
   "metadata": {
    "_datascience": {},
    "collapsed": true
   },
   "outputs": [],
   "source": [
    "c=0\n",
    "gaps = df[df['latitude'].apply(lambda x: math.isnan(x))]\n",
    "print gaps.shape\n",
    "for r in range(gaps.shape[0]):\n",
    "    row = gaps.iloc[r]\n",
    "    addr = row['Address1'] + ' ' + row['Address2']\n",
    "    try:\n",
    "        loc = addresses[addr]\n",
    "        c += 1\n",
    "    except KeyError:\n",
    "        print 'Lookup', addr\n",
    "        loc = geocoder.google(addr)\n",
    "        addresses[addr] = loc\n",
    "    blockLLMap[int(details['AIN'])] = loc\n",
    "    if c % 1000 == 0:\n",
    "        print 'Completed', 100.0 * r / gaps.shape[0], errcount"
   ]
  },
  {
   "cell_type": "code",
   "execution_count": 225,
   "metadata": {
    "_datascience": {},
    "collapsed": true
   },
   "outputs": [],
   "source": [
    "df['AIN'] = df['AIN'].astype(int)"
   ]
  },
  {
   "cell_type": "code",
   "execution_count": 226,
   "metadata": {
    "_datascience": {},
    "collapsed": false
   },
   "outputs": [],
   "source": [
    "# save df to csv\n",
    "df.to_csv('details.csv', sep='\\t', index=False, encoding='utf-8')"
   ]
  },
  {
   "cell_type": "code",
   "execution_count": null,
   "metadata": {
    "_datascience": {},
    "collapsed": true
   },
   "outputs": [],
   "source": [
    "# all on block are considered 0"
   ]
  },
  {
   "cell_type": "code",
   "execution_count": 545,
   "metadata": {
    "_datascience": {},
    "collapsed": false
   },
   "outputs": [
    {
     "data": {
      "text/html": [
       "<div>\n",
       "<table border=\"1\" class=\"dataframe\">\n",
       "  <thead>\n",
       "    <tr style=\"text-align: right;\">\n",
       "      <th></th>\n",
       "      <th>AIN</th>\n",
       "      <th>Address1</th>\n",
       "      <th>Address2</th>\n",
       "      <th>Assr_Index_Map</th>\n",
       "      <th>Assr_Map</th>\n",
       "      <th>CLUSTER</th>\n",
       "      <th>FIXEVEV</th>\n",
       "      <th>FIXTVAL</th>\n",
       "      <th>FormattedAIN</th>\n",
       "      <th>HOEVAL</th>\n",
       "      <th>...</th>\n",
       "      <th>UseType_Label</th>\n",
       "      <th>improve_BDLBATH</th>\n",
       "      <th>improve_BDLBDRM</th>\n",
       "      <th>improve_BDLEFFYR</th>\n",
       "      <th>improve_BDLSQMAIN</th>\n",
       "      <th>improve_BDLUNITS</th>\n",
       "      <th>improve_BDLYRBLT</th>\n",
       "      <th>improve_ImprovementNum</th>\n",
       "      <th>latitude</th>\n",
       "      <th>longitude</th>\n",
       "    </tr>\n",
       "  </thead>\n",
       "  <tbody>\n",
       "    <tr>\n",
       "      <th>0</th>\n",
       "      <td>4252019010</td>\n",
       "      <td>3741 VETERAN AVE</td>\n",
       "      <td>LOS ANGELES CA 90034</td>\n",
       "      <td>None</td>\n",
       "      <td>None</td>\n",
       "      <td>09156</td>\n",
       "      <td>0</td>\n",
       "      <td>0</td>\n",
       "      <td>4252-019-010</td>\n",
       "      <td>7000</td>\n",
       "      <td>...</td>\n",
       "      <td>Single Family Residential</td>\n",
       "      <td>1</td>\n",
       "      <td>2</td>\n",
       "      <td>1950</td>\n",
       "      <td>905</td>\n",
       "      <td>1</td>\n",
       "      <td>1950</td>\n",
       "      <td>1</td>\n",
       "      <td>NaN</td>\n",
       "      <td>NaN</td>\n",
       "    </tr>\n",
       "    <tr>\n",
       "      <th>1</th>\n",
       "      <td>4330028006</td>\n",
       "      <td>400 S BEVERLY DR</td>\n",
       "      <td>BEVERLY HILLS CA 90212</td>\n",
       "      <td>None</td>\n",
       "      <td>None</td>\n",
       "      <td>23620</td>\n",
       "      <td>0</td>\n",
       "      <td>0</td>\n",
       "      <td>4330-028-006</td>\n",
       "      <td>0</td>\n",
       "      <td>...</td>\n",
       "      <td>Commercial / Industrial</td>\n",
       "      <td>0</td>\n",
       "      <td>0</td>\n",
       "      <td>1970</td>\n",
       "      <td>45326</td>\n",
       "      <td>0</td>\n",
       "      <td>1957</td>\n",
       "      <td>1</td>\n",
       "      <td>NaN</td>\n",
       "      <td>NaN</td>\n",
       "    </tr>\n",
       "    <tr>\n",
       "      <th>2</th>\n",
       "      <td>4277013052</td>\n",
       "      <td>933 21ST ST, APT 0013</td>\n",
       "      <td>SANTA MONICA CA 90403</td>\n",
       "      <td>None</td>\n",
       "      <td>None</td>\n",
       "      <td>07398</td>\n",
       "      <td>0</td>\n",
       "      <td>0</td>\n",
       "      <td>4277-013-052</td>\n",
       "      <td>7000</td>\n",
       "      <td>...</td>\n",
       "      <td>Condominium</td>\n",
       "      <td>3</td>\n",
       "      <td>2</td>\n",
       "      <td>1974</td>\n",
       "      <td>1254</td>\n",
       "      <td>1</td>\n",
       "      <td>1974</td>\n",
       "      <td>1</td>\n",
       "      <td>34.036635</td>\n",
       "      <td>-118.486177</td>\n",
       "    </tr>\n",
       "    <tr>\n",
       "      <th>3</th>\n",
       "      <td>4317009025</td>\n",
       "      <td>2006 THAYER AVE</td>\n",
       "      <td>LOS ANGELES CA 90025</td>\n",
       "      <td>None</td>\n",
       "      <td>None</td>\n",
       "      <td>07153</td>\n",
       "      <td>0</td>\n",
       "      <td>0</td>\n",
       "      <td>4317-009-025</td>\n",
       "      <td>7000</td>\n",
       "      <td>...</td>\n",
       "      <td>Single Family Residential</td>\n",
       "      <td>3</td>\n",
       "      <td>4</td>\n",
       "      <td>1960</td>\n",
       "      <td>2111</td>\n",
       "      <td>1</td>\n",
       "      <td>1925</td>\n",
       "      <td>1</td>\n",
       "      <td>34.049540</td>\n",
       "      <td>-118.425438</td>\n",
       "    </tr>\n",
       "    <tr>\n",
       "      <th>4</th>\n",
       "      <td>4249026288</td>\n",
       "      <td></td>\n",
       "      <td></td>\n",
       "      <td>None</td>\n",
       "      <td>None</td>\n",
       "      <td>22811</td>\n",
       "      <td>0</td>\n",
       "      <td>0</td>\n",
       "      <td>4249-026-288</td>\n",
       "      <td>0</td>\n",
       "      <td>...</td>\n",
       "      <td>Vacant Land</td>\n",
       "      <td>NaN</td>\n",
       "      <td>NaN</td>\n",
       "      <td>NaN</td>\n",
       "      <td>NaN</td>\n",
       "      <td>NaN</td>\n",
       "      <td>NaN</td>\n",
       "      <td>NaN</td>\n",
       "      <td>NaN</td>\n",
       "      <td>NaN</td>\n",
       "    </tr>\n",
       "  </tbody>\n",
       "</table>\n",
       "<p>5 rows × 36 columns</p>\n",
       "</div>"
      ],
      "text/plain": [
       "          AIN               Address1                Address2 Assr_Index_Map  \\\n",
       "0  4252019010       3741 VETERAN AVE    LOS ANGELES CA 90034           None   \n",
       "1  4330028006       400 S BEVERLY DR  BEVERLY HILLS CA 90212           None   \n",
       "2  4277013052  933 21ST ST, APT 0013   SANTA MONICA CA 90403           None   \n",
       "3  4317009025        2006 THAYER AVE    LOS ANGELES CA 90025           None   \n",
       "4  4249026288                                                          None   \n",
       "\n",
       "  Assr_Map CLUSTER  FIXEVEV  FIXTVAL  FormattedAIN  HOEVAL     ...      \\\n",
       "0     None   09156        0        0  4252-019-010    7000     ...       \n",
       "1     None   23620        0        0  4330-028-006       0     ...       \n",
       "2     None   07398        0        0  4277-013-052    7000     ...       \n",
       "3     None   07153        0        0  4317-009-025    7000     ...       \n",
       "4     None   22811        0        0  4249-026-288       0     ...       \n",
       "\n",
       "               UseType_Label improve_BDLBATH improve_BDLBDRM  \\\n",
       "0  Single Family Residential               1               2   \n",
       "1    Commercial / Industrial               0               0   \n",
       "2                Condominium               3               2   \n",
       "3  Single Family Residential               3               4   \n",
       "4                Vacant Land             NaN             NaN   \n",
       "\n",
       "   improve_BDLEFFYR improve_BDLSQMAIN  improve_BDLUNITS  improve_BDLYRBLT  \\\n",
       "0              1950               905                 1              1950   \n",
       "1              1970             45326                 0              1957   \n",
       "2              1974              1254                 1              1974   \n",
       "3              1960              2111                 1              1925   \n",
       "4               NaN               NaN               NaN               NaN   \n",
       "\n",
       "   improve_ImprovementNum   latitude   longitude  \n",
       "0                       1        NaN         NaN  \n",
       "1                       1        NaN         NaN  \n",
       "2                       1  34.036635 -118.486177  \n",
       "3                       1  34.049540 -118.425438  \n",
       "4                     NaN        NaN         NaN  \n",
       "\n",
       "[5 rows x 36 columns]"
      ]
     },
     "execution_count": 545,
     "metadata": {},
     "output_type": "execute_result"
    }
   ],
   "source": [
    "# Sample of the data\n",
    "df.head()"
   ]
  },
  {
   "cell_type": "code",
   "execution_count": 266,
   "metadata": {
    "_datascience": {},
    "collapsed": false
   },
   "outputs": [
    {
     "data": {
      "text/plain": [
       "(148557, 36)"
      ]
     },
     "execution_count": 266,
     "metadata": {},
     "output_type": "execute_result"
    }
   ],
   "source": [
    "df.shape"
   ]
  },
  {
   "cell_type": "code",
   "execution_count": 546,
   "metadata": {
    "_datascience": {},
    "collapsed": false
   },
   "outputs": [
    {
     "name": "stdout",
     "output_type": "stream",
     "text": [
      "Remaining after filter: 0.0380594653904\n",
      "5654\n"
     ]
    }
   ],
   "source": [
    "# Filter down to those I have a price for\n",
    "\n",
    "f1 = df['SalePrice'] > 0\n",
    "f1 = df['SalePrice'] > 0\n",
    "f2 = df['latitude'].apply(lambda x: not(math.isnan(x)))\n",
    "df2 = df[f1 & f2]\n",
    "print 'Remaining after filter:', 1.0 * df2.shape[0] / df.shape[0]\n",
    "print df2.shape[0]"
   ]
  },
  {
   "cell_type": "markdown",
   "metadata": {
    "_datascience": {}
   },
   "source": [
    "I have a disappointingly small subset, but let's see if we can make the most of it."
   ]
  },
  {
   "cell_type": "markdown",
   "metadata": {
    "_datascience": {}
   },
   "source": [
    "So I'm using Euclydian distance, which is strictly incorrect.  I should be using the geodesic distance, since the curvature of the Earth, especially at the longitude of Los Angeles, will introduce significant error in the Euclydian distance approximation.  Since i'm looking for the *nearest* neighbors, this error might be minimized, but I'm not sure if it will be trivial.  Yet, I'm skipping this step for now, since the objective in this particular mini-episode is to talk about the Elbow Method, not about [distance measures](http://dataskeptic.com/epnotes/ep71_distance-measures.php)."
   ]
  },
  {
   "cell_type": "code",
   "execution_count": 344,
   "metadata": {
    "_datascience": {},
    "collapsed": false
   },
   "outputs": [],
   "source": [
    "# load to k-d tree\n",
    "lat = df2['latitude']\n",
    "lng = df2['longitude']\n",
    "df2.index = np.arange(df2.shape[0]) # Just to make sure the index is useful to us\n",
    "k=2\n",
    "kdt = cKDTree(zip(lat,lng))"
   ]
  },
  {
   "cell_type": "code",
   "execution_count": 540,
   "metadata": {
    "_datascience": {},
    "collapsed": true
   },
   "outputs": [],
   "source": [
    "maxk = 25"
   ]
  },
  {
   "cell_type": "code",
   "execution_count": 541,
   "metadata": {
    "_datascience": {},
    "collapsed": false
   },
   "outputs": [],
   "source": [
    "# iterate over k, calculate average price, store mean and accuracy\n",
    "results = []\n",
    "for k in range(1, maxk):\n",
    "    for r in np.arange(df2.shape[0]):\n",
    "        row = df2.iloc[r]\n",
    "        sp = row['SalePrice']\n",
    "        distances, neighbors = kdt.query((row['latitude'], row['longitude']), k=k)\n",
    "        if type(distances) == float:\n",
    "            distances = pd.Series(distances)\n",
    "        if type(neighbors) == int:\n",
    "            neighbors = pd.Series(neighbors)\n",
    "        if sum(neighbors==r):\n",
    "            selfidx = np.where(neighbors == r)[0][0]\n",
    "            neighbors = pd.Series(neighbors)\n",
    "            neighbors.drop(selfidx, inplace=True)\n",
    "        avg_dist = distances.mean()\n",
    "        #avg_sp = df2.iloc[neighbors]['SalePrice'].mean()\n",
    "        avg_sp = math.sqrt(sum((sp - df2.iloc[neighbors]['SalePrice']).apply(lambda x: math.pow(x, 2))))\n",
    "        result = [sp, k, avg_dist, avg_sp, len(neighbors)]\n",
    "        results.append(result)"
   ]
  },
  {
   "cell_type": "code",
   "execution_count": 542,
   "metadata": {
    "_datascience": {},
    "collapsed": false
   },
   "outputs": [],
   "source": [
    "rdf = pd.DataFrame(results)\n",
    "rdf.columns = ['SalePrice', 'k', 'adist', 'avgNeighborSalePrice', 'numNeighbors']\n",
    "\n",
    "# There are some extreme outliers, so let's trim the top and bottom\n",
    "low, high = rdf['SalePrice'].quantile([.05, .95]).tolist()\n",
    "rdf = rdf[rdf['SalePrice'] > low]\n",
    "rdf = rdf[rdf['SalePrice'] < high]\n",
    "rdf['delta'] = rdf['avgNeighborSalePrice'] - rdf['SalePrice']\n",
    "rdf['sq_err'] = rdf['delta'].apply(lambda x: abs(x))\n",
    "low, high = rdf['delta'].quantile([.05, .95]).tolist()\n",
    "rdf = rdf[rdf['delta'] > low]\n",
    "rdf = rdf[rdf['delta'] < high]\n",
    "gb = rdf.groupby('k')['sq_err'].mean()"
   ]
  },
  {
   "cell_type": "code",
   "execution_count": 543,
   "metadata": {
    "_datascience": {},
    "collapsed": false
   },
   "outputs": [
    {
     "data": {
      "image/png": "[encoded data removed]",
      "text/plain": [
       "<matplotlib.figure.Figure at 0x7f7370fde6d0>"
      ]
     },
     "metadata": {},
     "output_type": "display_data"
    }
   ],
   "source": [
    "plt.figure(figsize=(10,5))\n",
    "plt.bar(gb.index, gb)\n",
    "plt.xlabel('k=')\n",
    "plt.gca().xaxis.grid(False)\n",
    "plt.title('Mean square error ')\n",
    "plt.xticks(gb.index + 0.4, gb.index)\n",
    "plt.xlim(.75, maxk)\n",
    "plt.show()"
   ]
  },
  {
   "cell_type": "markdown",
   "metadata": {
    "_datascience": {}
   },
   "source": [
    "The figure above plots the mean square error of the price of a home to it's k nearest neighbors.  Naturally, this diverges as k increases, because it means we're searching further and further away from the home for comparables, which means homes that are less comparable in terms of location.\n",
    "\n",
    "Yet, we find a small minimium with k=3, which would imply that the optimal number of nearest neighbors to use to estimate the price of a home based *strictly* on price alone, is three.\n",
    "\n",
    "The reader should be a bit skeptical of this result, because we have some unstated assumptions about the data.  First, we assume the data source is good.  Yet, it's a questionable usage.  I got it by crawling an unpublicized API of the assessor's office.  It clearly has large gaps (homes without recent sale prices).  I have no explanation for these gaps.  If they were random ommisions, that would not be so bad, but I suspect their introducing a bias to the dataset.\n",
    "\n",
    "I also don't account for trend or seasonality.  Because my dataset got down to be rather small compared to the total population of homes in LA, I used all the data.  In reality, more recent data would be better (perhaps the last 3 years?).  Additionally, home sales have seasonal components that I didn't account for.  Thus, the nearest neigbors might have all sold during a more favorable time in the market, and are thus, not exactly comparable to the home I'm estimating.\n",
    "\n",
    "I'm also only comparing on price.  Euclydian distance (which has it's own problems stated above) is the only metric.  A one bedroom condo might be compared to a 4 bedroom single family dettached home by this method, if it happens to be closest.  This is clearly not ideal and will introduce a significant amount of variance into my results.\n",
    "\n",
    "So where is the elbow?  Well, it's arguable at k=3.  One might say this is not actually an \"elbow method\" problem because this method is typically used for monotonically decreasing trade-offs.  In this way the more common use in k-means clustering would have been a better example.  For a discussion of the more ideal use cases, please listen to this episode.\n",
    "\n",
    "Lastly, consider these show notes an demonstration of technology and technique over actual result.  There are many things to be skeptical of in this analysis, but I learned a few things a long the way that will go into our upcoming home purchase decisions."
   ]
  },
  {
   "cell_type": "markdown",
   "metadata": {
    "_datascience": {}
   },
   "source": [
    "## Clustering Example\n",
    "\n",
    "Let's dust off the old iris dataset and see how The Elbow Method performs in it's more typical use case of identifying the k for k-means clustering."
   ]
  },
  {
   "cell_type": "code",
   "execution_count": 1,
   "metadata": {
    "ExecuteTime": {
     "end_time": "2016-03-18T14:37:44.506687",
     "start_time": "2016-03-18T14:37:44.243613"
    },
    "_datascience": {},
    "collapsed": true
   },
   "outputs": [],
   "source": [
    "from sklearn.cluster import KMeans\n",
    "from sklearn import datasets\n",
    "iris = datasets.load_iris()"
   ]
  },
  {
   "cell_type": "code",
   "execution_count": 60,
   "metadata": {
    "ExecuteTime": {
     "end_time": "2016-03-18T15:01:14.193204",
     "start_time": "2016-03-18T15:01:13.574851"
    },
    "_datascience": {},
    "collapsed": false
   },
   "outputs": [],
   "source": [
    "X = iris.data\n",
    "rsqs = []\n",
    "ks = range(2,20)\n",
    "for k in ks:\n",
    "    km = KMeans(n_clusters=k)\n",
    "    fit = km.fit(X)\n",
    "    # Calculate the R-squared for the cluster, which is explained (within variance) over total variance\n",
    "\n",
    "    labels = fit.predict(X)\n",
    "    y = pd.DataFrame(labels, columns=['cluster'])\n",
    "    x = pd.DataFrame(X, columns=['x0','x1','x2','x3'])\n",
    "    df = pd.concat([x, y], axis=1)\n",
    "    centroids = df.groupby(['cluster']).mean()\n",
    "    centroids.columns = ['c0', 'c1', 'c2', 'c3']\n",
    "    mcentroid = df[['x0', 'x1', 'x2', 'x3']].mean()\n",
    "    df.set_index('cluster', inplace=True)\n",
    "    df = df.join(centroids, how='outer')\n",
    "\n",
    "    # sum of squared error within each cluster\n",
    "    df['sse'] = (df['x0']-df['c0']).apply(lambda x: math.pow(x, 2)) \\\n",
    "              + (df['x1']-df['c1']).apply(lambda x: math.pow(x, 2)) \\\n",
    "              + (df['x2']-df['c2']).apply(lambda x: math.pow(x, 2)) \\\n",
    "              + (df['x3']-df['c3']).apply(lambda x: math.pow(x, 2))\n",
    "\n",
    "    # sum of squared error total            \n",
    "    df['m0'] = mcentroid['x0']\n",
    "    df['m1'] = mcentroid['x1']\n",
    "    df['m2'] = mcentroid['x2']\n",
    "    df['m3'] = mcentroid['x3']\n",
    "    df['tse'] = (df['x0']-df['m0']).apply(lambda x: math.pow(x, 2)) \\\n",
    "              + (df['x1']-df['m1']).apply(lambda x: math.pow(x, 2)) \\\n",
    "              + (df['x2']-df['m2']).apply(lambda x: math.pow(x, 2)) \\\n",
    "              + (df['x3']-df['m3']).apply(lambda x: math.pow(x, 2))\n",
    "\n",
    "    rsq = 1 - df['sse'].sum() / df['tse'].sum()\n",
    "    rsqs.append(rsq)"
   ]
  },
  {
   "cell_type": "code",
   "execution_count": 61,
   "metadata": {
    "ExecuteTime": {
     "end_time": "2016-03-18T15:01:14.737085",
     "start_time": "2016-03-18T15:01:14.621194"
    },
    "_datascience": {},
    "collapsed": false
   },
   "outputs": [
    {
     "data": {
      "image/png": "[encoded data removed]",
      "text/plain": [
       "<matplotlib.figure.Figure at 0x7f5fd40f36d0>"
      ]
     },
     "metadata": {},
     "output_type": "display_data"
    }
   ],
   "source": [
    "plt.plot(ks, rsqs)\n",
    "plt.xlabel('Number of clusters')\n",
    "plt.ylabel('R-Squared')\n",
    "plt.xlim(1,20)\n",
    "plt.show()"
   ]
  },
  {
   "cell_type": "markdown",
   "metadata": {
    "ExecuteTime": {
     "end_time": "2016-03-18T14:57:25.829699",
     "start_time": "2016-03-18T14:57:25.798028"
    },
    "_datascience": {}
   },
   "source": [
    "The above example of an elbow plot for clustesr found using k-means is what one would typically use to inform the elbow method, and thus select your k parameter.  To my eye, there is no obvious elbow in this example, highlighting one of my complaints expressed in the episode."
   ]
  }
 ],
 "metadata": {
  "_datascience": {},
  "kernelspec": {
   "display_name": "Python 2",
   "language": "python",
   "name": "python2"
  },
  "language_info": {
   "codemirror_mode": {
    "name": "ipython",
    "version": 2
   },
   "file_extension": ".py",
   "mimetype": "text/x-python",
   "name": "python",
   "nbconvert_exporter": "python",
   "pygments_lexer": "ipython2",
   "version": "2.7.6"
  }
 },
 "nbformat": 4,
 "nbformat_minor": 0
}
