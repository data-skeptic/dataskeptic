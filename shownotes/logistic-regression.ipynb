{
 "cells": [
  {
   "cell_type": "code",
   "execution_count": 2,
   "metadata": {
    "collapsed": false
   },
   "outputs": [],
   "source": [
    "%matplotlib inline\n",
    "import numpy as np\n",
    "import pandas as pd\n",
    "import matplotlib.pyplot as plt\n",
    "import requests\n",
    "import BeautifulSoup as soup\n",
    "import json\n",
    "import time"
   ]
  },
  {
   "cell_type": "code",
   "execution_count": 1,
   "metadata": {
    "collapsed": true
   },
   "outputs": [],
   "source": [
    "url = 'http://www.zillow.com/homes/recently_sold/Los-Angeles-CA/12447_rid/0-625000_price/0-2325_mp/34.087782,-118.175297,33.94749,-118.563595_rect/11_zm/'\n",
    "#http://www.zillow.com/homes/recently_sold/Los-Angeles-CA/12447_rid/0-625000_price/0-2325_mp/34.078683,-118.219242,33.956318,-118.51965_rect/11_zm/2_p/\n"
   ]
  },
  {
   "cell_type": "code",
   "execution_count": 81,
   "metadata": {
    "collapsed": true
   },
   "outputs": [],
   "source": [
    "cache = {}"
   ]
  },
  {
   "cell_type": "code",
   "execution_count": 197,
   "metadata": {
    "collapsed": false
   },
   "outputs": [],
   "source": [
    "def xml2listing(articles):\n",
    "    id = articles.get('id')\n",
    "    statustype = articles.get('statustype')\n",
    "    latitude = articles.get('latitude')\n",
    "    longitude = articles.get('longitude')\n",
    "    href = ''\n",
    "    address = ''\n",
    "    numphotos = ''\n",
    "    bath = ''\n",
    "    title = ''\n",
    "    image = ''\n",
    "    bed = ''\n",
    "    label = ''\n",
    "    datasize = ''\n",
    "    sqft = ''\n",
    "    id = ''\n",
    "    statustype = ''\n",
    "    for elem in articles:\n",
    "        if str(type(elem)) == \"<class 'BeautifulSoup.Tag'>\":\n",
    "            if elem.name == 'figure':\n",
    "                a = elem.contents[0]\n",
    "                if str(type(a)) == \"<class 'BeautifulSoup.Tag'>\":\n",
    "                    href = a.get('href')\n",
    "                    address = a.contents[0].get('alt')\n",
    "                    if len(a.contents) > 1:\n",
    "                        numphotos = a.contents[1].contents[0]\n",
    "            elif elem.name == 'div':\n",
    "                cls = elem.get('class')\n",
    "                if cls == 'minibubble template hide':\n",
    "                    jdata = elem.contents[0]\n",
    "                    jdata = jdata.replace('\\\\\\\\/', '/').replace('\\\\', '')\n",
    "                    j = json.loads(jdata)\n",
    "                    bath = j['bath']\n",
    "                    title = j['title']\n",
    "                    image = j['image']\n",
    "                    bed = j['bed']\n",
    "                    label = j['label']\n",
    "                    datasize = j['datasize']\n",
    "                    sqft = j['sqft']\n",
    "                elif cls == 'property-listing-data':\n",
    "                    continue\n",
    "                elif cls == 'terse-list-card-actions':\n",
    "                    continue\n",
    "                else:\n",
    "                    continue\n",
    "        else:\n",
    "            continue\n",
    "    listing = {}\n",
    "    listing['id'] = id\n",
    "    listing['statustype'] = statustype\n",
    "    listing['latitude'] = latitude\n",
    "    listing['longitude'] = longitude\n",
    "    listing['href'] = href\n",
    "    listing['address'] = address\n",
    "    listing['numphotos'] = numphotos\n",
    "    listing['bath'] = bath\n",
    "    listing['title'] = title\n",
    "    listing['image'] = image\n",
    "    listing['bed'] = bed\n",
    "    listing['label'] = label\n",
    "    listing['datasize'] = datasize\n",
    "    listing['sqft'] = sqft\n",
    "    return listing"
   ]
  },
  {
   "cell_type": "code",
   "execution_count": null,
   "metadata": {
    "collapsed": true
   },
   "outputs": [],
   "source": [
    "TODO: sold on, sold price"
   ]
  },
  {
   "cell_type": "code",
   "execution_count": 204,
   "metadata": {
    "collapsed": false
   },
   "outputs": [
    {
     "name": "stdout",
     "output_type": "stream",
     "text": [
      "1\n",
      ".\n",
      "2\n",
      ".\n",
      "3\n",
      ".\n",
      "4\n",
      ".\n",
      "5\n",
      ".\n",
      "6\n",
      ".\n",
      "7\n",
      ".\n",
      "8\n",
      ".\n",
      "9\n",
      ".\n",
      "10\n",
      ".\n",
      "11\n",
      ".\n",
      "12\n",
      ".\n",
      "13\n",
      ".\n",
      "14\n",
      ".\n",
      "15\n",
      ".\n",
      "16\n",
      ".\n",
      "17\n",
      ".\n",
      "18\n",
      ".\n",
      "19\n",
      ".\n",
      "20\n",
      ".\n",
      "21\n",
      ".\n",
      "22\n",
      ".\n",
      "23\n",
      ".\n",
      "24\n",
      ".\n",
      "25\n",
      ".\n",
      "26\n",
      ".\n",
      "27\n",
      ".\n",
      "28\n",
      ".\n",
      "29\n",
      ".\n",
      "30\n",
      ".\n",
      "31\n",
      ".\n",
      "32\n",
      ".\n",
      "33\n",
      ".\n",
      "34\n",
      ".\n",
      "35\n",
      ".\n",
      "36\n",
      ".\n",
      "37\n",
      ".\n",
      "38\n",
      ".\n",
      "39\n",
      ".\n",
      "40\n",
      ".\n",
      "41\n",
      "42\n",
      "43\n",
      "44\n",
      "45\n",
      "46\n",
      "47\n",
      "48\n",
      "49\n",
      "50\n",
      "51\n",
      "52\n",
      "53\n",
      "54\n",
      "55\n",
      "56\n",
      "57\n",
      "58\n",
      "59\n",
      "60\n",
      "61\n",
      "62\n",
      "63\n",
      "64\n",
      "65\n",
      "66\n",
      "67\n",
      "68\n",
      "69\n",
      "70\n"
     ]
    },
    {
     "ename": "KeyboardInterrupt",
     "evalue": "",
     "output_type": "error",
     "traceback": [
      "\u001b[0;31m---------------------------------------------------------------------------\u001b[0m",
      "\u001b[0;31mKeyboardInterrupt\u001b[0m                         Traceback (most recent call last)",
      "\u001b[0;32m<ipython-input-204-33344b629c3b>\u001b[0m in \u001b[0;36m<module>\u001b[0;34m()\u001b[0m\n\u001b[1;32m     12\u001b[0m         \u001b[0mcache\u001b[0m\u001b[0;34m[\u001b[0m\u001b[0murl2\u001b[0m\u001b[0;34m]\u001b[0m \u001b[0;34m=\u001b[0m \u001b[0mr\u001b[0m\u001b[0;34m\u001b[0m\u001b[0m\n\u001b[1;32m     13\u001b[0m         \u001b[0mtime\u001b[0m\u001b[0;34m.\u001b[0m\u001b[0msleep\u001b[0m\u001b[0;34m(\u001b[0m\u001b[0;36m1\u001b[0m\u001b[0;34m)\u001b[0m\u001b[0;34m\u001b[0m\u001b[0m\n\u001b[0;32m---> 14\u001b[0;31m     \u001b[0ms\u001b[0m \u001b[0;34m=\u001b[0m \u001b[0msoup\u001b[0m\u001b[0;34m.\u001b[0m\u001b[0mBeautifulSoup\u001b[0m\u001b[0;34m(\u001b[0m\u001b[0mr\u001b[0m\u001b[0;34m.\u001b[0m\u001b[0mcontent\u001b[0m\u001b[0;34m)\u001b[0m\u001b[0;34m\u001b[0m\u001b[0m\n\u001b[0m\u001b[1;32m     15\u001b[0m     \u001b[0marticles\u001b[0m \u001b[0;34m=\u001b[0m \u001b[0ms\u001b[0m\u001b[0;34m.\u001b[0m\u001b[0mfind\u001b[0m\u001b[0;34m(\u001b[0m\u001b[0;34m'article'\u001b[0m\u001b[0;34m)\u001b[0m\u001b[0;34m\u001b[0m\u001b[0m\n\u001b[1;32m     16\u001b[0m     \u001b[0;32mif\u001b[0m \u001b[0marticles\u001b[0m\u001b[0;34m:\u001b[0m\u001b[0;34m\u001b[0m\u001b[0m\n",
      "\u001b[0;32m/Users/kylepolich/anaconda/lib/python2.7/site-packages/BeautifulSoup.pyc\u001b[0m in \u001b[0;36m__init__\u001b[0;34m(self, *args, **kwargs)\u001b[0m\n\u001b[1;32m   1520\u001b[0m             \u001b[0mkwargs\u001b[0m\u001b[0;34m[\u001b[0m\u001b[0;34m'smartQuotesTo'\u001b[0m\u001b[0;34m]\u001b[0m \u001b[0;34m=\u001b[0m \u001b[0mself\u001b[0m\u001b[0;34m.\u001b[0m\u001b[0mHTML_ENTITIES\u001b[0m\u001b[0;34m\u001b[0m\u001b[0m\n\u001b[1;32m   1521\u001b[0m         \u001b[0mkwargs\u001b[0m\u001b[0;34m[\u001b[0m\u001b[0;34m'isHTML'\u001b[0m\u001b[0;34m]\u001b[0m \u001b[0;34m=\u001b[0m \u001b[0mTrue\u001b[0m\u001b[0;34m\u001b[0m\u001b[0m\n\u001b[0;32m-> 1522\u001b[0;31m         \u001b[0mBeautifulStoneSoup\u001b[0m\u001b[0;34m.\u001b[0m\u001b[0m__init__\u001b[0m\u001b[0;34m(\u001b[0m\u001b[0mself\u001b[0m\u001b[0;34m,\u001b[0m \u001b[0;34m*\u001b[0m\u001b[0margs\u001b[0m\u001b[0;34m,\u001b[0m \u001b[0;34m**\u001b[0m\u001b[0mkwargs\u001b[0m\u001b[0;34m)\u001b[0m\u001b[0;34m\u001b[0m\u001b[0m\n\u001b[0m\u001b[1;32m   1523\u001b[0m \u001b[0;34m\u001b[0m\u001b[0m\n\u001b[1;32m   1524\u001b[0m     SELF_CLOSING_TAGS = buildTagMap(None,\n",
      "\u001b[0;32m/Users/kylepolich/anaconda/lib/python2.7/site-packages/BeautifulSoup.pyc\u001b[0m in \u001b[0;36m__init__\u001b[0;34m(self, markup, parseOnlyThese, fromEncoding, markupMassage, smartQuotesTo, convertEntities, selfClosingTags, isHTML)\u001b[0m\n\u001b[1;32m   1145\u001b[0m         \u001b[0mself\u001b[0m\u001b[0;34m.\u001b[0m\u001b[0mmarkupMassage\u001b[0m \u001b[0;34m=\u001b[0m \u001b[0mmarkupMassage\u001b[0m\u001b[0;34m\u001b[0m\u001b[0m\n\u001b[1;32m   1146\u001b[0m         \u001b[0;32mtry\u001b[0m\u001b[0;34m:\u001b[0m\u001b[0;34m\u001b[0m\u001b[0m\n\u001b[0;32m-> 1147\u001b[0;31m             \u001b[0mself\u001b[0m\u001b[0;34m.\u001b[0m\u001b[0m_feed\u001b[0m\u001b[0;34m(\u001b[0m\u001b[0misHTML\u001b[0m\u001b[0;34m=\u001b[0m\u001b[0misHTML\u001b[0m\u001b[0;34m)\u001b[0m\u001b[0;34m\u001b[0m\u001b[0m\n\u001b[0m\u001b[1;32m   1148\u001b[0m         \u001b[0;32mexcept\u001b[0m \u001b[0mStopParsing\u001b[0m\u001b[0;34m:\u001b[0m\u001b[0;34m\u001b[0m\u001b[0m\n\u001b[1;32m   1149\u001b[0m             \u001b[0;32mpass\u001b[0m\u001b[0;34m\u001b[0m\u001b[0m\n",
      "\u001b[0;32m/Users/kylepolich/anaconda/lib/python2.7/site-packages/BeautifulSoup.pyc\u001b[0m in \u001b[0;36m_feed\u001b[0;34m(self, inDocumentEncoding, isHTML)\u001b[0m\n\u001b[1;32m   1187\u001b[0m         \u001b[0mself\u001b[0m\u001b[0;34m.\u001b[0m\u001b[0mreset\u001b[0m\u001b[0;34m(\u001b[0m\u001b[0;34m)\u001b[0m\u001b[0;34m\u001b[0m\u001b[0m\n\u001b[1;32m   1188\u001b[0m \u001b[0;34m\u001b[0m\u001b[0m\n\u001b[0;32m-> 1189\u001b[0;31m         \u001b[0mSGMLParser\u001b[0m\u001b[0;34m.\u001b[0m\u001b[0mfeed\u001b[0m\u001b[0;34m(\u001b[0m\u001b[0mself\u001b[0m\u001b[0;34m,\u001b[0m \u001b[0mmarkup\u001b[0m\u001b[0;34m)\u001b[0m\u001b[0;34m\u001b[0m\u001b[0m\n\u001b[0m\u001b[1;32m   1190\u001b[0m         \u001b[0;31m# Close out any unfinished strings and close all the open tags.\u001b[0m\u001b[0;34m\u001b[0m\u001b[0;34m\u001b[0m\u001b[0m\n\u001b[1;32m   1191\u001b[0m         \u001b[0mself\u001b[0m\u001b[0;34m.\u001b[0m\u001b[0mendData\u001b[0m\u001b[0;34m(\u001b[0m\u001b[0;34m)\u001b[0m\u001b[0;34m\u001b[0m\u001b[0m\n",
      "\u001b[0;32m/Users/kylepolich/anaconda/lib/python2.7/sgmllib.pyc\u001b[0m in \u001b[0;36mfeed\u001b[0;34m(self, data)\u001b[0m\n\u001b[1;32m    102\u001b[0m \u001b[0;34m\u001b[0m\u001b[0m\n\u001b[1;32m    103\u001b[0m         \u001b[0mself\u001b[0m\u001b[0;34m.\u001b[0m\u001b[0mrawdata\u001b[0m \u001b[0;34m=\u001b[0m \u001b[0mself\u001b[0m\u001b[0;34m.\u001b[0m\u001b[0mrawdata\u001b[0m \u001b[0;34m+\u001b[0m \u001b[0mdata\u001b[0m\u001b[0;34m\u001b[0m\u001b[0m\n\u001b[0;32m--> 104\u001b[0;31m         \u001b[0mself\u001b[0m\u001b[0;34m.\u001b[0m\u001b[0mgoahead\u001b[0m\u001b[0;34m(\u001b[0m\u001b[0;36m0\u001b[0m\u001b[0;34m)\u001b[0m\u001b[0;34m\u001b[0m\u001b[0m\n\u001b[0m\u001b[1;32m    105\u001b[0m \u001b[0;34m\u001b[0m\u001b[0m\n\u001b[1;32m    106\u001b[0m     \u001b[0;32mdef\u001b[0m \u001b[0mclose\u001b[0m\u001b[0;34m(\u001b[0m\u001b[0mself\u001b[0m\u001b[0;34m)\u001b[0m\u001b[0;34m:\u001b[0m\u001b[0;34m\u001b[0m\u001b[0m\n",
      "\u001b[0;32m/Users/kylepolich/anaconda/lib/python2.7/sgmllib.pyc\u001b[0m in \u001b[0;36mgoahead\u001b[0;34m(self, end)\u001b[0m\n\u001b[1;32m    136\u001b[0m                         \u001b[0mi\u001b[0m \u001b[0;34m=\u001b[0m \u001b[0mi\u001b[0m\u001b[0;34m+\u001b[0m\u001b[0;36m1\u001b[0m\u001b[0;34m\u001b[0m\u001b[0m\n\u001b[1;32m    137\u001b[0m                         \u001b[0;32mcontinue\u001b[0m\u001b[0;34m\u001b[0m\u001b[0m\n\u001b[0;32m--> 138\u001b[0;31m                     \u001b[0mk\u001b[0m \u001b[0;34m=\u001b[0m \u001b[0mself\u001b[0m\u001b[0;34m.\u001b[0m\u001b[0mparse_starttag\u001b[0m\u001b[0;34m(\u001b[0m\u001b[0mi\u001b[0m\u001b[0;34m)\u001b[0m\u001b[0;34m\u001b[0m\u001b[0m\n\u001b[0m\u001b[1;32m    139\u001b[0m                     \u001b[0;32mif\u001b[0m \u001b[0mk\u001b[0m \u001b[0;34m<\u001b[0m \u001b[0;36m0\u001b[0m\u001b[0;34m:\u001b[0m \u001b[0;32mbreak\u001b[0m\u001b[0;34m\u001b[0m\u001b[0m\n\u001b[1;32m    140\u001b[0m                     \u001b[0mi\u001b[0m \u001b[0;34m=\u001b[0m \u001b[0mk\u001b[0m\u001b[0;34m\u001b[0m\u001b[0m\n",
      "\u001b[0;32m/Users/kylepolich/anaconda/lib/python2.7/sgmllib.pyc\u001b[0m in \u001b[0;36mparse_starttag\u001b[0;34m(self, i)\u001b[0m\n\u001b[1;32m    294\u001b[0m             \u001b[0mj\u001b[0m \u001b[0;34m=\u001b[0m \u001b[0mj\u001b[0m\u001b[0;34m+\u001b[0m\u001b[0;36m1\u001b[0m\u001b[0;34m\u001b[0m\u001b[0m\n\u001b[1;32m    295\u001b[0m         \u001b[0mself\u001b[0m\u001b[0;34m.\u001b[0m\u001b[0m__starttag_text\u001b[0m \u001b[0;34m=\u001b[0m \u001b[0mrawdata\u001b[0m\u001b[0;34m[\u001b[0m\u001b[0mstart_pos\u001b[0m\u001b[0;34m:\u001b[0m\u001b[0mj\u001b[0m\u001b[0;34m]\u001b[0m\u001b[0;34m\u001b[0m\u001b[0m\n\u001b[0;32m--> 296\u001b[0;31m         \u001b[0mself\u001b[0m\u001b[0;34m.\u001b[0m\u001b[0mfinish_starttag\u001b[0m\u001b[0;34m(\u001b[0m\u001b[0mtag\u001b[0m\u001b[0;34m,\u001b[0m \u001b[0mattrs\u001b[0m\u001b[0;34m)\u001b[0m\u001b[0;34m\u001b[0m\u001b[0m\n\u001b[0m\u001b[1;32m    297\u001b[0m         \u001b[0;32mreturn\u001b[0m \u001b[0mj\u001b[0m\u001b[0;34m\u001b[0m\u001b[0m\n\u001b[1;32m    298\u001b[0m \u001b[0;34m\u001b[0m\u001b[0m\n",
      "\u001b[0;32m/Users/kylepolich/anaconda/lib/python2.7/sgmllib.pyc\u001b[0m in \u001b[0;36mfinish_starttag\u001b[0;34m(self, tag, attrs)\u001b[0m\n\u001b[1;32m    336\u001b[0m                 \u001b[0mmethod\u001b[0m \u001b[0;34m=\u001b[0m \u001b[0mgetattr\u001b[0m\u001b[0;34m(\u001b[0m\u001b[0mself\u001b[0m\u001b[0;34m,\u001b[0m \u001b[0;34m'do_'\u001b[0m \u001b[0;34m+\u001b[0m \u001b[0mtag\u001b[0m\u001b[0;34m)\u001b[0m\u001b[0;34m\u001b[0m\u001b[0m\n\u001b[1;32m    337\u001b[0m             \u001b[0;32mexcept\u001b[0m \u001b[0mAttributeError\u001b[0m\u001b[0;34m:\u001b[0m\u001b[0;34m\u001b[0m\u001b[0m\n\u001b[0;32m--> 338\u001b[0;31m                 \u001b[0mself\u001b[0m\u001b[0;34m.\u001b[0m\u001b[0munknown_starttag\u001b[0m\u001b[0;34m(\u001b[0m\u001b[0mtag\u001b[0m\u001b[0;34m,\u001b[0m \u001b[0mattrs\u001b[0m\u001b[0;34m)\u001b[0m\u001b[0;34m\u001b[0m\u001b[0m\n\u001b[0m\u001b[1;32m    339\u001b[0m                 \u001b[0;32mreturn\u001b[0m \u001b[0;34m-\u001b[0m\u001b[0;36m1\u001b[0m\u001b[0;34m\u001b[0m\u001b[0m\n\u001b[1;32m    340\u001b[0m             \u001b[0;32melse\u001b[0m\u001b[0;34m:\u001b[0m\u001b[0;34m\u001b[0m\u001b[0m\n",
      "\u001b[0;32m/Users/kylepolich/anaconda/lib/python2.7/site-packages/BeautifulSoup.pyc\u001b[0m in \u001b[0;36munknown_starttag\u001b[0;34m(self, name, attrs, selfClosing)\u001b[0m\n\u001b[1;32m   1338\u001b[0m         \u001b[0mself\u001b[0m\u001b[0;34m.\u001b[0m\u001b[0mendData\u001b[0m\u001b[0;34m(\u001b[0m\u001b[0;34m)\u001b[0m\u001b[0;34m\u001b[0m\u001b[0m\n\u001b[1;32m   1339\u001b[0m \u001b[0;34m\u001b[0m\u001b[0m\n\u001b[0;32m-> 1340\u001b[0;31m         \u001b[0;32mif\u001b[0m \u001b[0;32mnot\u001b[0m \u001b[0mself\u001b[0m\u001b[0;34m.\u001b[0m\u001b[0misSelfClosingTag\u001b[0m\u001b[0;34m(\u001b[0m\u001b[0mname\u001b[0m\u001b[0;34m)\u001b[0m \u001b[0;32mand\u001b[0m \u001b[0;32mnot\u001b[0m \u001b[0mselfClosing\u001b[0m\u001b[0;34m:\u001b[0m\u001b[0;34m\u001b[0m\u001b[0m\n\u001b[0m\u001b[1;32m   1341\u001b[0m             \u001b[0mself\u001b[0m\u001b[0;34m.\u001b[0m\u001b[0m_smartPop\u001b[0m\u001b[0;34m(\u001b[0m\u001b[0mname\u001b[0m\u001b[0;34m)\u001b[0m\u001b[0;34m\u001b[0m\u001b[0m\n\u001b[1;32m   1342\u001b[0m \u001b[0;34m\u001b[0m\u001b[0m\n",
      "\u001b[0;32m/Users/kylepolich/anaconda/lib/python2.7/site-packages/BeautifulSoup.pyc\u001b[0m in \u001b[0;36misSelfClosingTag\u001b[0;34m(self, name)\u001b[0m\n\u001b[1;32m   1210\u001b[0m         self-closing tag according to this parser.\"\"\"\n\u001b[1;32m   1211\u001b[0m         \u001b[0;32mreturn\u001b[0m \u001b[0mself\u001b[0m\u001b[0;34m.\u001b[0m\u001b[0mSELF_CLOSING_TAGS\u001b[0m\u001b[0;34m.\u001b[0m\u001b[0mhas_key\u001b[0m\u001b[0;34m(\u001b[0m\u001b[0mname\u001b[0m\u001b[0;34m)\u001b[0m\u001b[0;31m \u001b[0m\u001b[0;31m\\\u001b[0m\u001b[0;34m\u001b[0m\u001b[0m\n\u001b[0;32m-> 1212\u001b[0;31m                \u001b[0;32mor\u001b[0m \u001b[0mself\u001b[0m\u001b[0;34m.\u001b[0m\u001b[0minstanceSelfClosingTags\u001b[0m\u001b[0;34m.\u001b[0m\u001b[0mhas_key\u001b[0m\u001b[0;34m(\u001b[0m\u001b[0mname\u001b[0m\u001b[0;34m)\u001b[0m\u001b[0;34m\u001b[0m\u001b[0m\n\u001b[0m\u001b[1;32m   1213\u001b[0m \u001b[0;34m\u001b[0m\u001b[0m\n\u001b[1;32m   1214\u001b[0m     \u001b[0;32mdef\u001b[0m \u001b[0mreset\u001b[0m\u001b[0;34m(\u001b[0m\u001b[0mself\u001b[0m\u001b[0;34m)\u001b[0m\u001b[0;34m:\u001b[0m\u001b[0;34m\u001b[0m\u001b[0m\n",
      "\u001b[0;31mKeyboardInterrupt\u001b[0m: "
     ]
    }
   ],
   "source": [
    "p = 1\n",
    "listings = []\n",
    "while p < 25000:\n",
    "    print p\n",
    "    url2 = url\n",
    "    if p > 1:\n",
    "        url2 += '/' + str(p) + '_p'\n",
    "    try:\n",
    "        r = cache[url2]\n",
    "    except KeyError:\n",
    "        r = requests.get(url2)\n",
    "        cache[url2] = r\n",
    "        time.sleep(1)\n",
    "    s = soup.BeautifulSoup(r.content)\n",
    "    articles = s.find('article')\n",
    "    if articles:\n",
    "        listing = xml2listing(articles)\n",
    "        print '.'\n",
    "        listings.append(listing)\n",
    "    p += 1"
   ]
  },
  {
   "cell_type": "code",
   "execution_count": 210,
   "metadata": {
    "collapsed": false
   },
   "outputs": [],
   "source": [
    "s = soup.BeautifulSoup(r.content)\n",
    "articles = s.find('article')"
   ]
  },
  {
   "cell_type": "code",
   "execution_count": 211,
   "metadata": {
    "collapsed": false
   },
   "outputs": [
    {
     "ename": "AttributeError",
     "evalue": "'NoneType' object has no attribute 'get'",
     "output_type": "error",
     "traceback": [
      "\u001b[0;31m---------------------------------------------------------------------------\u001b[0m",
      "\u001b[0;31mAttributeError\u001b[0m                            Traceback (most recent call last)",
      "\u001b[0;32m<ipython-input-211-14d0d1ddc9b8>\u001b[0m in \u001b[0;36m<module>\u001b[0;34m()\u001b[0m\n\u001b[0;32m----> 1\u001b[0;31m \u001b[0mxml2listing\u001b[0m\u001b[0;34m(\u001b[0m\u001b[0marticles\u001b[0m\u001b[0;34m)\u001b[0m\u001b[0;34m\u001b[0m\u001b[0m\n\u001b[0m",
      "\u001b[0;32m<ipython-input-197-6deea68489b6>\u001b[0m in \u001b[0;36mxml2listing\u001b[0;34m(articles)\u001b[0m\n\u001b[1;32m      1\u001b[0m \u001b[0;32mdef\u001b[0m \u001b[0mxml2listing\u001b[0m\u001b[0;34m(\u001b[0m\u001b[0marticles\u001b[0m\u001b[0;34m)\u001b[0m\u001b[0;34m:\u001b[0m\u001b[0;34m\u001b[0m\u001b[0m\n\u001b[0;32m----> 2\u001b[0;31m     \u001b[0mid\u001b[0m \u001b[0;34m=\u001b[0m \u001b[0marticles\u001b[0m\u001b[0;34m.\u001b[0m\u001b[0mget\u001b[0m\u001b[0;34m(\u001b[0m\u001b[0;34m'id'\u001b[0m\u001b[0;34m)\u001b[0m\u001b[0;34m\u001b[0m\u001b[0m\n\u001b[0m\u001b[1;32m      3\u001b[0m     \u001b[0mstatustype\u001b[0m \u001b[0;34m=\u001b[0m \u001b[0marticles\u001b[0m\u001b[0;34m.\u001b[0m\u001b[0mget\u001b[0m\u001b[0;34m(\u001b[0m\u001b[0;34m'statustype'\u001b[0m\u001b[0;34m)\u001b[0m\u001b[0;34m\u001b[0m\u001b[0m\n\u001b[1;32m      4\u001b[0m     \u001b[0mlatitude\u001b[0m \u001b[0;34m=\u001b[0m \u001b[0marticles\u001b[0m\u001b[0;34m.\u001b[0m\u001b[0mget\u001b[0m\u001b[0;34m(\u001b[0m\u001b[0;34m'latitude'\u001b[0m\u001b[0;34m)\u001b[0m\u001b[0;34m\u001b[0m\u001b[0m\n\u001b[1;32m      5\u001b[0m     \u001b[0mlongitude\u001b[0m \u001b[0;34m=\u001b[0m \u001b[0marticles\u001b[0m\u001b[0;34m.\u001b[0m\u001b[0mget\u001b[0m\u001b[0;34m(\u001b[0m\u001b[0;34m'longitude'\u001b[0m\u001b[0;34m)\u001b[0m\u001b[0;34m\u001b[0m\u001b[0m\n",
      "\u001b[0;31mAttributeError\u001b[0m: 'NoneType' object has no attribute 'get'"
     ]
    }
   ],
   "source": [
    "xml2listing(articles)"
   ]
  },
  {
   "cell_type": "code",
   "execution_count": 201,
   "metadata": {
    "collapsed": false
   },
   "outputs": [],
   "source": [
    "df = pd.DataFrame(listings)"
   ]
  },
  {
   "cell_type": "code",
   "execution_count": 203,
   "metadata": {
    "collapsed": false
   },
   "outputs": [
    {
     "data": {
      "text/plain": [
       "40"
      ]
     },
     "execution_count": 203,
     "metadata": {},
     "output_type": "execute_result"
    }
   ],
   "source": [
    "len(listings)"
   ]
  },
  {
   "cell_type": "code",
   "execution_count": null,
   "metadata": {
    "collapsed": true
   },
   "outputs": [],
   "source": []
  },
  {
   "cell_type": "code",
   "execution_count": null,
   "metadata": {
    "collapsed": true
   },
   "outputs": [],
   "source": []
  },
  {
   "cell_type": "code",
   "execution_count": null,
   "metadata": {
    "collapsed": true
   },
   "outputs": [],
   "source": []
  },
  {
   "cell_type": "code",
   "execution_count": null,
   "metadata": {
    "collapsed": true
   },
   "outputs": [],
   "source": []
  },
  {
   "cell_type": "code",
   "execution_count": null,
   "metadata": {
    "collapsed": true
   },
   "outputs": [],
   "source": []
  },
  {
   "cell_type": "code",
   "execution_count": null,
   "metadata": {
    "collapsed": true
   },
   "outputs": [],
   "source": []
  },
  {
   "cell_type": "code",
   "execution_count": 112,
   "metadata": {
    "collapsed": true
   },
   "outputs": [],
   "source": [
    "%matplotlib inline\n",
    "import matplotlib.pyplot as plt\n",
    "import requests\n",
    "import xml.etree.ElementTree\n",
    "import pandas as pd"
   ]
  },
  {
   "cell_type": "code",
   "execution_count": 5,
   "metadata": {
    "collapsed": true
   },
   "outputs": [],
   "source": []
  },
  {
   "cell_type": "code",
   "execution_count": 107,
   "metadata": {
    "collapsed": true
   },
   "outputs": [],
   "source": [
    "zipcodes = ['90024']"
   ]
  },
  {
   "cell_type": "code",
   "execution_count": 108,
   "metadata": {
    "collapsed": false
   },
   "outputs": [],
   "source": [
    "rows = []\n",
    "for zipcode in zipcodes:\n",
    "    url = 'http://api.trulia.com/webservices.php?library=TruliaStats&function=getZipCodeStats&zipCode=' + zipcode + '&state=CA&startDate=2015-01-01&endDate=2016-01-11&apikey=' + key\n",
    "    r = requests.get(url)\n",
    "    fname = 'data.xml'\n",
    "    f = open(fname, 'w')\n",
    "    f.write(r.text)\n",
    "    f.close()\n",
    "    e = xml.etree.ElementTree.parse(fname).getroot()\n",
    "    stats = e.find('response').find('TruliaStats').find('trafficStats').findall('trafficStat')\n",
    "    for stat in stats:\n",
    "        row = [zipcode, stat.find('date').text, stat.find('percentStateTraffic').text, stat.find('percentNationalTraffic').text]\n",
    "        rows.append(row)"
   ]
  },
  {
   "cell_type": "code",
   "execution_count": 115,
   "metadata": {
    "collapsed": false
   },
   "outputs": [
    {
     "data": {
      "text/plain": [
       "[<matplotlib.lines.Line2D at 0x109d5a110>]"
      ]
     },
     "execution_count": 115,
     "metadata": {},
     "output_type": "execute_result"
    },
    {
     "data": {
      "image/png": "[encoded data removed]",
      "text/plain": [
       "<matplotlib.figure.Figure at 0x1065f8e10>"
      ]
     },
     "metadata": {},
     "output_type": "display_data"
    }
   ],
   "source": [
    "df = pd.DataFrame(rows, columns=['zipcode', 'date', 'pStateTraffic', 'pNationalTraffic'])\n",
    "plt.plot(df['pStateTraffic'])"
   ]
  },
  {
   "cell_type": "code",
   "execution_count": 17,
   "metadata": {
    "collapsed": false
   },
   "outputs": [],
   "source": []
  },
  {
   "cell_type": "code",
   "execution_count": 58,
   "metadata": {
    "collapsed": true
   },
   "outputs": [],
   "source": []
  },
  {
   "cell_type": "code",
   "execution_count": null,
   "metadata": {
    "collapsed": true
   },
   "outputs": [],
   "source": []
  },
  {
   "cell_type": "code",
   "execution_count": 137,
   "metadata": {
    "collapsed": false
   },
   "outputs": [],
   "source": [
    "rows = []\n",
    "\n",
    "listingStats = e.find('response').find('TruliaStats').find('listingStats').findall('listingStat')\n",
    "for listingStat in listingStats:\n",
    "    week = listingStat.find('weekEndingDate').text\n",
    "    subcategories = listingStat.find('listingPrice').findall('subcategory')\n",
    "    row = {'week': week}\n",
    "    for subcat in subcategories:\n",
    "        t = subcat.find('type').text\n",
    "        if t.find('Bedroom Properties') == 2:\n",
    "            br = t[0:2].strip()\n",
    "            num = subcat.find('numberOfProperties').text\n",
    "            median = subcat.find('medianListingPrice').text\n",
    "            mean = subcat.find('averageListingPrice').text\n",
    "            row['num_' + br] = num\n",
    "            row['median_' + br] = median\n",
    "            row['mean_' + br] = mean\n",
    "    rows.append(row)"
   ]
  },
  {
   "cell_type": "code",
   "execution_count": 140,
   "metadata": {
    "collapsed": false
   },
   "outputs": [],
   "source": [
    "df = pd.DataFrame(rows)"
   ]
  },
  {
   "cell_type": "code",
   "execution_count": 143,
   "metadata": {
    "collapsed": false
   },
   "outputs": [
    {
     "data": {
      "text/plain": [
       "[<matplotlib.lines.Line2D at 0x10a2d6a10>]"
      ]
     },
     "execution_count": 143,
     "metadata": {},
     "output_type": "execute_result"
    },
    {
     "data": {
      "image/png": "[encoded data removed]",
      "text/plain": [
       "<matplotlib.figure.Figure at 0x10a114f90>"
      ]
     },
     "metadata": {},
     "output_type": "display_data"
    }
   ],
   "source": [
    "plt.plot(df['median_2'])"
   ]
  },
  {
   "cell_type": "code",
   "execution_count": 141,
   "metadata": {
    "collapsed": false
   },
   "outputs": [
    {
     "data": {
      "text/html": [
       "<div style=\"max-height:1000px;max-width:1500px;overflow:auto;\">\n",
       "<table border=\"1\" class=\"dataframe\">\n",
       "  <thead>\n",
       "    <tr style=\"text-align: right;\">\n",
       "      <th></th>\n",
       "      <th>mean_1</th>\n",
       "      <th>mean_2</th>\n",
       "      <th>mean_3</th>\n",
       "      <th>mean_4</th>\n",
       "      <th>mean_5</th>\n",
       "      <th>mean_6</th>\n",
       "      <th>mean_8</th>\n",
       "      <th>median_1</th>\n",
       "      <th>median_2</th>\n",
       "      <th>median_3</th>\n",
       "      <th>...</th>\n",
       "      <th>median_6</th>\n",
       "      <th>median_8</th>\n",
       "      <th>num_1</th>\n",
       "      <th>num_2</th>\n",
       "      <th>num_3</th>\n",
       "      <th>num_4</th>\n",
       "      <th>num_5</th>\n",
       "      <th>num_6</th>\n",
       "      <th>num_8</th>\n",
       "      <th>week</th>\n",
       "    </tr>\n",
       "  </thead>\n",
       "  <tbody>\n",
       "    <tr>\n",
       "      <th>0</th>\n",
       "      <td> 529389</td>\n",
       "      <td> 1571835</td>\n",
       "      <td> 3303602</td>\n",
       "      <td> 3665592</td>\n",
       "      <td> 3134107</td>\n",
       "      <td> NaN</td>\n",
       "      <td> 2995000</td>\n",
       "      <td> 549000</td>\n",
       "      <td> 1013500</td>\n",
       "      <td> 2881571</td>\n",
       "      <td>...</td>\n",
       "      <td> NaN</td>\n",
       "      <td> 2995000</td>\n",
       "      <td>  9</td>\n",
       "      <td> 61</td>\n",
       "      <td> 20</td>\n",
       "      <td>  6</td>\n",
       "      <td> 3</td>\n",
       "      <td> NaN</td>\n",
       "      <td> 1</td>\n",
       "      <td> 2015-01-03</td>\n",
       "    </tr>\n",
       "    <tr>\n",
       "      <th>1</th>\n",
       "      <td> 531504</td>\n",
       "      <td> 1550382</td>\n",
       "      <td> 3275355</td>\n",
       "      <td> 3794154</td>\n",
       "      <td> 3134107</td>\n",
       "      <td> NaN</td>\n",
       "      <td> 2995000</td>\n",
       "      <td> 549000</td>\n",
       "      <td>  989286</td>\n",
       "      <td> 2429643</td>\n",
       "      <td>...</td>\n",
       "      <td> NaN</td>\n",
       "      <td> 2995000</td>\n",
       "      <td>  9</td>\n",
       "      <td> 63</td>\n",
       "      <td> 24</td>\n",
       "      <td>  8</td>\n",
       "      <td> 3</td>\n",
       "      <td> NaN</td>\n",
       "      <td> 1</td>\n",
       "      <td> 2015-01-10</td>\n",
       "    </tr>\n",
       "    <tr>\n",
       "      <th>2</th>\n",
       "      <td> 545462</td>\n",
       "      <td> 1566104</td>\n",
       "      <td> 3275062</td>\n",
       "      <td> 3748120</td>\n",
       "      <td> 3561429</td>\n",
       "      <td> NaN</td>\n",
       "      <td> 2995000</td>\n",
       "      <td> 546271</td>\n",
       "      <td>  986636</td>\n",
       "      <td> 2703857</td>\n",
       "      <td>...</td>\n",
       "      <td> NaN</td>\n",
       "      <td> 2995000</td>\n",
       "      <td> 12</td>\n",
       "      <td> 69</td>\n",
       "      <td> 27</td>\n",
       "      <td>  9</td>\n",
       "      <td> 2</td>\n",
       "      <td> NaN</td>\n",
       "      <td> 1</td>\n",
       "      <td> 2015-01-17</td>\n",
       "    </tr>\n",
       "    <tr>\n",
       "      <th>3</th>\n",
       "      <td> 552524</td>\n",
       "      <td> 1556027</td>\n",
       "      <td> 3242167</td>\n",
       "      <td> 3845129</td>\n",
       "      <td> 3872500</td>\n",
       "      <td> NaN</td>\n",
       "      <td> 2995000</td>\n",
       "      <td> 548000</td>\n",
       "      <td>  987121</td>\n",
       "      <td> 2851000</td>\n",
       "      <td>...</td>\n",
       "      <td> NaN</td>\n",
       "      <td> 2995000</td>\n",
       "      <td> 14</td>\n",
       "      <td> 73</td>\n",
       "      <td> 27</td>\n",
       "      <td> 10</td>\n",
       "      <td> 2</td>\n",
       "      <td> NaN</td>\n",
       "      <td> 1</td>\n",
       "      <td> 2015-01-24</td>\n",
       "    </tr>\n",
       "    <tr>\n",
       "      <th>4</th>\n",
       "      <td> 529364</td>\n",
       "      <td> 1567261</td>\n",
       "      <td> 3206141</td>\n",
       "      <td> 3800777</td>\n",
       "      <td> 3885714</td>\n",
       "      <td> NaN</td>\n",
       "      <td> 2995000</td>\n",
       "      <td> 531671</td>\n",
       "      <td>  984836</td>\n",
       "      <td> 2846071</td>\n",
       "      <td>...</td>\n",
       "      <td> NaN</td>\n",
       "      <td> 2995000</td>\n",
       "      <td> 16</td>\n",
       "      <td> 71</td>\n",
       "      <td> 27</td>\n",
       "      <td> 10</td>\n",
       "      <td> 2</td>\n",
       "      <td> NaN</td>\n",
       "      <td> 1</td>\n",
       "      <td> 2015-01-31</td>\n",
       "    </tr>\n",
       "  </tbody>\n",
       "</table>\n",
       "<p>5 rows × 22 columns</p>\n",
       "</div>"
      ],
      "text/plain": [
       "   mean_1   mean_2   mean_3   mean_4   mean_5 mean_6   mean_8 median_1  \\\n",
       "0  529389  1571835  3303602  3665592  3134107    NaN  2995000   549000   \n",
       "1  531504  1550382  3275355  3794154  3134107    NaN  2995000   549000   \n",
       "2  545462  1566104  3275062  3748120  3561429    NaN  2995000   546271   \n",
       "3  552524  1556027  3242167  3845129  3872500    NaN  2995000   548000   \n",
       "4  529364  1567261  3206141  3800777  3885714    NaN  2995000   531671   \n",
       "\n",
       "  median_2 median_3     ...     median_6 median_8 num_1 num_2 num_3 num_4  \\\n",
       "0  1013500  2881571     ...          NaN  2995000     9    61    20     6   \n",
       "1   989286  2429643     ...          NaN  2995000     9    63    24     8   \n",
       "2   986636  2703857     ...          NaN  2995000    12    69    27     9   \n",
       "3   987121  2851000     ...          NaN  2995000    14    73    27    10   \n",
       "4   984836  2846071     ...          NaN  2995000    16    71    27    10   \n",
       "\n",
       "  num_5 num_6 num_8        week  \n",
       "0     3   NaN     1  2015-01-03  \n",
       "1     3   NaN     1  2015-01-10  \n",
       "2     2   NaN     1  2015-01-17  \n",
       "3     2   NaN     1  2015-01-24  \n",
       "4     2   NaN     1  2015-01-31  \n",
       "\n",
       "[5 rows x 22 columns]"
      ]
     },
     "execution_count": 141,
     "metadata": {},
     "output_type": "execute_result"
    }
   ],
   "source": [
    "df.head()"
   ]
  }
 ],
 "metadata": {
  "kernelspec": {
   "display_name": "Python 2",
   "language": "python",
   "name": "python2"
  },
  "language_info": {
   "codemirror_mode": {
    "name": "ipython",
    "version": 2
   },
   "file_extension": ".py",
   "mimetype": "text/x-python",
   "name": "python",
   "nbconvert_exporter": "python",
   "pygments_lexer": "ipython2",
   "version": "2.7.9"
  }
 },
 "nbformat": 4,
 "nbformat_minor": 0
}
