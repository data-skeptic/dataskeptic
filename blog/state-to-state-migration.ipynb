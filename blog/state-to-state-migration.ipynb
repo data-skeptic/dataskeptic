{
 "cells": [
  {
   "cell_type": "code",
   "execution_count": 1,
   "metadata": {
    "_datascience": {},
    "collapsed": true
   },
   "outputs": [],
   "source": [
    "%matplotlib inline\n",
    "import matplotlib.pyplot as plt\n",
    "import numpy as np\n",
    "import pandas as pd\n",
    "import urllib2\n",
    "import math\n",
    "import os"
   ]
  },
  {
   "cell_type": "code",
   "execution_count": 3,
   "metadata": {
    "_datascience": {},
    "collapsed": false
   },
   "outputs": [],
   "source": [
    "fname = 'State_to_State_Migrations_Table_2014.xls'\n",
    "files = os.listdir('.')\n",
    "try:\n",
    "    i = files.index(fname)\n",
    "except ValueError:\n",
    "    url = 'http://www.census.gov/hhes/migration/files/acs/st-to-st/' + fname\n",
    "    r = urllib2.urlopen(url)\n",
    "    f = open(fname, 'wb')\n",
    "    f.write(r.read())\n",
    "    f.close()"
   ]
  },
  {
   "cell_type": "code",
   "execution_count": 4,
   "metadata": {
    "_datascience": {},
    "collapsed": false
   },
   "outputs": [],
   "source": [
    "df = pd.read_excel(fname, header=False, skiprows=4)"
   ]
  },
  {
   "cell_type": "code",
   "execution_count": 5,
   "metadata": {
    "_datascience": {},
    "collapsed": false
   },
   "outputs": [],
   "source": [
    "# Remove the repeated \"Current residence\" columns\n",
    "filter = df.iloc[0]=='Current residence'\n",
    "template = np.arange(len(filter))\n",
    "redundant = template[np.array(filter)]\n",
    "redundant = redundant[1:]\n",
    "df = df.drop(df.columns[redundant], axis=1)"
   ]
  },
  {
   "cell_type": "code",
   "execution_count": 6,
   "metadata": {
    "_datascience": {},
    "collapsed": false
   },
   "outputs": [],
   "source": [
    "# Discard margin of error\n",
    "filter = df.iloc[2]=='MOE'\n",
    "template = np.arange(len(filter))\n",
    "moe_cols = template[np.array(filter)]\n",
    "df = df.drop(df.columns[moe_cols], axis=1)"
   ]
  },
  {
   "cell_type": "code",
   "execution_count": 7,
   "metadata": {
    "_datascience": {},
    "collapsed": false
   },
   "outputs": [],
   "source": [
    "# Remove all empty rows\n",
    "\n",
    "def soft_isnan(x):\n",
    "    if type(x) == float:\n",
    "        return math.isnan(x)\n",
    "    else:\n",
    "        return False\n",
    "\n",
    "headers = []\n",
    "for i in range(df.shape[0]):\n",
    "    if sum(df.iloc[i].apply(soft_isnan)) == df.shape[1]:\n",
    "        headers.append(i)\n",
    "\n",
    "headers = headers[1:]\n",
    "df = df.drop(df.index[headers])"
   ]
  },
  {
   "cell_type": "code",
   "execution_count": 8,
   "metadata": {
    "_datascience": {},
    "collapsed": false
   },
   "outputs": [],
   "source": [
    "# Remove footer\n",
    "df.index = np.arange(df.shape[0])\n",
    "x = df.index[df[df.columns[0]]==\"Footnotes:\"][0]\n",
    "df = df.iloc[0:x]"
   ]
  },
  {
   "cell_type": "code",
   "execution_count": 9,
   "metadata": {
    "_datascience": {},
    "collapsed": false
   },
   "outputs": [],
   "source": [
    "# Label Estimate column with state name\n",
    "x = df.ix[0][0:5].tolist()\n",
    "x.extend(df.ix[1][5:].tolist())\n",
    "df.columns = map(lambda x: x.strip(), x)"
   ]
  },
  {
   "cell_type": "code",
   "execution_count": 10,
   "metadata": {
    "_datascience": {},
    "collapsed": false
   },
   "outputs": [],
   "source": [
    "# Remove repeated headers\n",
    "df = df.ix[4:]\n",
    "filter = df['Current residence'] != 'Current residence'\n",
    "df = df[filter]\n",
    "filter = df['Current residence'].apply(lambda x: type(x) != float)\n",
    "df = df[filter]"
   ]
  },
  {
   "cell_type": "code",
   "execution_count": 11,
   "metadata": {
    "_datascience": {},
    "collapsed": false
   },
   "outputs": [],
   "source": [
    "# Set index\n",
    "df = df.drop(4, axis=0)\n",
    "df = df.set_index('Current residence')"
   ]
  },
  {
   "cell_type": "code",
   "execution_count": 12,
   "metadata": {
    "_datascience": {},
    "collapsed": false
   },
   "outputs": [
    {
     "data": {
      "text/html": [
       "<div style=\"max-height:1000px;max-width:1500px;overflow:auto;\">\n",
       "<table border=\"1\" class=\"dataframe\">\n",
       "  <thead>\n",
       "    <tr style=\"text-align: right;\">\n",
       "      <th></th>\n",
       "      <th>Population 1 year and over</th>\n",
       "      <th>Same house 1 year ago</th>\n",
       "      <th>Same state of residence 1 year ago</th>\n",
       "      <th>Different state of residence 1 year ago</th>\n",
       "      <th>Alabama</th>\n",
       "      <th>Alaska</th>\n",
       "      <th>Arizona</th>\n",
       "      <th>Arkansas</th>\n",
       "      <th>California</th>\n",
       "      <th>Colorado</th>\n",
       "      <th>...</th>\n",
       "      <th>Vermont</th>\n",
       "      <th>Virginia</th>\n",
       "      <th>Washington</th>\n",
       "      <th>West Virginia</th>\n",
       "      <th>Wisconsin</th>\n",
       "      <th>Wyoming</th>\n",
       "      <th>Total</th>\n",
       "      <th>Puerto Rico</th>\n",
       "      <th>U.S. Island Area</th>\n",
       "      <th>Foreign Country</th>\n",
       "    </tr>\n",
       "    <tr>\n",
       "      <th>Current residence</th>\n",
       "      <th></th>\n",
       "      <th></th>\n",
       "      <th></th>\n",
       "      <th></th>\n",
       "      <th></th>\n",
       "      <th></th>\n",
       "      <th></th>\n",
       "      <th></th>\n",
       "      <th></th>\n",
       "      <th></th>\n",
       "      <th></th>\n",
       "      <th></th>\n",
       "      <th></th>\n",
       "      <th></th>\n",
       "      <th></th>\n",
       "      <th></th>\n",
       "      <th></th>\n",
       "      <th></th>\n",
       "      <th></th>\n",
       "      <th></th>\n",
       "      <th></th>\n",
       "    </tr>\n",
       "  </thead>\n",
       "  <tbody>\n",
       "    <tr>\n",
       "      <th>Alabama</th>\n",
       "      <td>4791931</td>\n",
       "      <td>4081522</td>\n",
       "      <td>589211</td>\n",
       "      <td>107919</td>\n",
       "      <td>NaN</td>\n",
       "      <td>1136</td>\n",
       "      <td>837</td>\n",
       "      <td>1450</td>\n",
       "      <td>5402</td>\n",
       "      <td>2019</td>\n",
       "      <td>...</td>\n",
       "      <td>179</td>\n",
       "      <td>1925</td>\n",
       "      <td>1143</td>\n",
       "      <td>1162</td>\n",
       "      <td>234</td>\n",
       "      <td>307</td>\n",
       "      <td>13279</td>\n",
       "      <td>320</td>\n",
       "      <td>46</td>\n",
       "      <td>12913</td>\n",
       "    </tr>\n",
       "    <tr>\n",
       "      <th>Alaska</th>\n",
       "      <td>725206</td>\n",
       "      <td>585916</td>\n",
       "      <td>97358</td>\n",
       "      <td>37842</td>\n",
       "      <td>603</td>\n",
       "      <td>NaN</td>\n",
       "      <td>2049</td>\n",
       "      <td>240</td>\n",
       "      <td>3419</td>\n",
       "      <td>2017</td>\n",
       "      <td>...</td>\n",
       "      <td>115</td>\n",
       "      <td>684</td>\n",
       "      <td>4841</td>\n",
       "      <td>0</td>\n",
       "      <td>459</td>\n",
       "      <td>107</td>\n",
       "      <td>4090</td>\n",
       "      <td>118</td>\n",
       "      <td>0</td>\n",
       "      <td>3972</td>\n",
       "    </tr>\n",
       "    <tr>\n",
       "      <th>Arizona</th>\n",
       "      <td>6651964</td>\n",
       "      <td>5431241</td>\n",
       "      <td>922129</td>\n",
       "      <td>249730</td>\n",
       "      <td>785</td>\n",
       "      <td>3140</td>\n",
       "      <td>NaN</td>\n",
       "      <td>1180</td>\n",
       "      <td>57446</td>\n",
       "      <td>9663</td>\n",
       "      <td>...</td>\n",
       "      <td>661</td>\n",
       "      <td>3202</td>\n",
       "      <td>13152</td>\n",
       "      <td>32</td>\n",
       "      <td>5948</td>\n",
       "      <td>2670</td>\n",
       "      <td>48864</td>\n",
       "      <td>679</td>\n",
       "      <td>332</td>\n",
       "      <td>47853</td>\n",
       "    </tr>\n",
       "    <tr>\n",
       "      <th>Arkansas</th>\n",
       "      <td>2931123</td>\n",
       "      <td>2464189</td>\n",
       "      <td>383087</td>\n",
       "      <td>74741</td>\n",
       "      <td>2145</td>\n",
       "      <td>66</td>\n",
       "      <td>782</td>\n",
       "      <td>NaN</td>\n",
       "      <td>5070</td>\n",
       "      <td>1149</td>\n",
       "      <td>...</td>\n",
       "      <td>0</td>\n",
       "      <td>1250</td>\n",
       "      <td>777</td>\n",
       "      <td>303</td>\n",
       "      <td>822</td>\n",
       "      <td>34</td>\n",
       "      <td>9106</td>\n",
       "      <td>148</td>\n",
       "      <td>241</td>\n",
       "      <td>8717</td>\n",
       "    </tr>\n",
       "    <tr>\n",
       "      <th>California</th>\n",
       "      <td>38340324</td>\n",
       "      <td>32849251</td>\n",
       "      <td>4659084</td>\n",
       "      <td>513968</td>\n",
       "      <td>10439</td>\n",
       "      <td>7098</td>\n",
       "      <td>35200</td>\n",
       "      <td>1570</td>\n",
       "      <td>NaN</td>\n",
       "      <td>17500</td>\n",
       "      <td>...</td>\n",
       "      <td>1041</td>\n",
       "      <td>17847</td>\n",
       "      <td>32837</td>\n",
       "      <td>897</td>\n",
       "      <td>6451</td>\n",
       "      <td>1401</td>\n",
       "      <td>318021</td>\n",
       "      <td>4317</td>\n",
       "      <td>1752</td>\n",
       "      <td>311952</td>\n",
       "    </tr>\n",
       "  </tbody>\n",
       "</table>\n",
       "<p>5 rows × 59 columns</p>\n",
       "</div>"
      ],
      "text/plain": [
       "                  Population 1 year and over Same house 1 year ago  \\\n",
       "Current residence                                                    \n",
       "Alabama                              4791931               4081522   \n",
       "Alaska                                725206                585916   \n",
       "Arizona                              6651964               5431241   \n",
       "Arkansas                             2931123               2464189   \n",
       "California                          38340324              32849251   \n",
       "\n",
       "                  Same state of residence 1 year ago  \\\n",
       "Current residence                                      \n",
       "Alabama                                       589211   \n",
       "Alaska                                         97358   \n",
       "Arizona                                       922129   \n",
       "Arkansas                                      383087   \n",
       "California                                   4659084   \n",
       "\n",
       "                  Different state of residence 1 year ago Alabama Alaska  \\\n",
       "Current residence                                                          \n",
       "Alabama                                            107919     NaN   1136   \n",
       "Alaska                                              37842     603    NaN   \n",
       "Arizona                                            249730     785   3140   \n",
       "Arkansas                                            74741    2145     66   \n",
       "California                                         513968   10439   7098   \n",
       "\n",
       "                  Arizona Arkansas California Colorado       ...        \\\n",
       "Current residence                                            ...         \n",
       "Alabama               837     1450       5402     2019       ...         \n",
       "Alaska               2049      240       3419     2017       ...         \n",
       "Arizona               NaN     1180      57446     9663       ...         \n",
       "Arkansas              782      NaN       5070     1149       ...         \n",
       "California          35200     1570        NaN    17500       ...         \n",
       "\n",
       "                  Vermont Virginia Washington West Virginia Wisconsin Wyoming  \\\n",
       "Current residence                                                               \n",
       "Alabama               179     1925       1143          1162       234     307   \n",
       "Alaska                115      684       4841             0       459     107   \n",
       "Arizona               661     3202      13152            32      5948    2670   \n",
       "Arkansas                0     1250        777           303       822      34   \n",
       "California           1041    17847      32837           897      6451    1401   \n",
       "\n",
       "                    Total Puerto Rico U.S. Island Area Foreign Country  \n",
       "Current residence                                                       \n",
       "Alabama             13279         320               46           12913  \n",
       "Alaska               4090         118                0            3972  \n",
       "Arizona             48864         679              332           47853  \n",
       "Arkansas             9106         148              241            8717  \n",
       "California         318021        4317             1752          311952  \n",
       "\n",
       "[5 rows x 59 columns]"
      ]
     },
     "execution_count": 12,
     "metadata": {},
     "output_type": "execute_result"
    }
   ],
   "source": [
    "df.head()"
   ]
  },
  {
   "cell_type": "code",
   "execution_count": 15,
   "metadata": {
    "_datascience": {},
    "collapsed": false
   },
   "outputs": [],
   "source": [
    "df.to_csv('s2s_migration.tsv', index=False, sep=\"\\t\")"
   ]
  }
 ],
 "metadata": {
  "_datascience": {},
  "kernelspec": {
   "display_name": "Python 2",
   "language": "python",
   "name": "python2"
  },
  "language_info": {
   "codemirror_mode": {
    "name": "ipython",
    "version": 2
   },
   "file_extension": ".py",
   "mimetype": "text/x-python",
   "name": "python",
   "nbconvert_exporter": "python",
   "pygments_lexer": "ipython2",
   "version": "2.7.6"
  }
 },
 "nbformat": 4,
 "nbformat_minor": 0
}
