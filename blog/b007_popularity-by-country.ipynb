{
 "cells": [
  {
   "cell_type": "markdown",
   "metadata": {
    "_datascience": {}
   },
   "source": [
    "I use a service called \"Libsyn\" to host Data Skeptic.  This is not a formal endorsement, just a fact.  They provide a certain amount of data about downloads, including a summary of downloads by country.\n",
    "\n",
    "It came as no surprise to me that Data Skeptic is most downloaded in my home country of the United States of America.  But I get a non-trivial amount of downloads from our neighboring nation to the north, which I know has about 10% of our population.  Do I get the most downloads *per capita* in the US?"
   ]
  },
  {
   "cell_type": "code",
   "execution_count": 10,
   "metadata": {
    "_datascience": {},
    "collapsed": true
   },
   "outputs": [],
   "source": [
    "%matplotlib inline\n",
    "import numpy as np\n",
    "import pandas as pd\n",
    "import matplotlib.pyplot as plt"
   ]
  },
  {
   "cell_type": "code",
   "execution_count": 56,
   "metadata": {
    "_datascience": {},
    "collapsed": false
   },
   "outputs": [],
   "source": [
    "df = pd.read_csv('show_countries_dataskeptic_2016-01-08.csv')\n",
    "df.sort('total_downloads', inplace=True, ascending=False)"
   ]
  },
  {
   "cell_type": "code",
   "execution_count": 57,
   "metadata": {
    "_datascience": {},
    "collapsed": false
   },
   "outputs": [],
   "source": [
    "tail = df[11:].sum()\n",
    "df = df[0:10]\n",
    "df = df.append({'country_name': 'Other', 'total_downloads': tail['total_downloads']}, ignore_index=True)\n",
    "df['downloads_percent'] = df['total_downloads'] / df['total_downloads'].sum() * 100\n",
    "df['downloads_percent'] = df['downloads_percent'].apply(lambda x: round(x, 2))"
   ]
  },
  {
   "cell_type": "code",
   "execution_count": 58,
   "metadata": {
    "_datascience": {},
    "collapsed": false
   },
   "outputs": [
    {
     "data": {
      "text/html": [
       "<div style=\"max-height:1000px;max-width:1500px;overflow:auto;\">\n",
       "<table border=\"1\" class=\"dataframe\">\n",
       "  <thead>\n",
       "    <tr style=\"text-align: right;\">\n",
       "      <th></th>\n",
       "      <th>country_name</th>\n",
       "      <th>downloads_percent</th>\n",
       "    </tr>\n",
       "  </thead>\n",
       "  <tbody>\n",
       "    <tr>\n",
       "      <th>0</th>\n",
       "      <td>United States</td>\n",
       "      <td>59.02</td>\n",
       "    </tr>\n",
       "    <tr>\n",
       "      <th>1</th>\n",
       "      <td>Australia</td>\n",
       "      <td>6.97</td>\n",
       "    </tr>\n",
       "    <tr>\n",
       "      <th>2</th>\n",
       "      <td>United Kingdom</td>\n",
       "      <td>6.60</td>\n",
       "    </tr>\n",
       "    <tr>\n",
       "      <th>3</th>\n",
       "      <td>Canada</td>\n",
       "      <td>4.41</td>\n",
       "    </tr>\n",
       "    <tr>\n",
       "      <th>4</th>\n",
       "      <td>Germany</td>\n",
       "      <td>2.53</td>\n",
       "    </tr>\n",
       "    <tr>\n",
       "      <th>5</th>\n",
       "      <td>Sweden</td>\n",
       "      <td>1.84</td>\n",
       "    </tr>\n",
       "    <tr>\n",
       "      <th>6</th>\n",
       "      <td>South Africa</td>\n",
       "      <td>1.48</td>\n",
       "    </tr>\n",
       "    <tr>\n",
       "      <th>7</th>\n",
       "      <td>India</td>\n",
       "      <td>1.27</td>\n",
       "    </tr>\n",
       "    <tr>\n",
       "      <th>8</th>\n",
       "      <td>Netherlands</td>\n",
       "      <td>1.09</td>\n",
       "    </tr>\n",
       "    <tr>\n",
       "      <th>9</th>\n",
       "      <td>France</td>\n",
       "      <td>0.84</td>\n",
       "    </tr>\n",
       "    <tr>\n",
       "      <th>10</th>\n",
       "      <td>Other</td>\n",
       "      <td>13.95</td>\n",
       "    </tr>\n",
       "  </tbody>\n",
       "</table>\n",
       "</div>"
      ],
      "text/plain": [
       "      country_name  downloads_percent\n",
       "0    United States              59.02\n",
       "1        Australia               6.97\n",
       "2   United Kingdom               6.60\n",
       "3           Canada               4.41\n",
       "4          Germany               2.53\n",
       "5           Sweden               1.84\n",
       "6     South Africa               1.48\n",
       "7            India               1.27\n",
       "8      Netherlands               1.09\n",
       "9           France               0.84\n",
       "10           Other              13.95"
      ]
     },
     "execution_count": 58,
     "metadata": {},
     "output_type": "execute_result"
    }
   ],
   "source": [
    "df[['country_name', 'downloads_percent']]"
   ]
  },
  {
   "cell_type": "code",
   "execution_count": 69,
   "metadata": {
    "_datascience": {},
    "collapsed": false
   },
   "outputs": [
    {
     "data": {
      "image/png": "[encoded data removed]",
      "text/plain": [
       "<matplotlib.figure.Figure at 0x7f1cc35e8290>"
      ]
     },
     "metadata": {},
     "output_type": "display_data"
    }
   ],
   "source": [
    "df.sort('total_downloads', inplace=True)\n",
    "df.index = np.arange(df.shape[0])\n",
    "plt.barh(df.index, df['downloads_percent'])\n",
    "plt.gca().yaxis.grid(False)\n",
    "plt.yticks(df.index + 0.4, df['country_name'])\n",
    "plt.xlabel('% of downloads')\n",
    "plt.ylim(-.25, df.shape[0])\n",
    "plt.show()"
   ]
  },
  {
   "cell_type": "code",
   "execution_count": 81,
   "metadata": {
    "_datascience": {},
    "collapsed": false
   },
   "outputs": [],
   "source": [
    "# I wish I knew a clean API for this...\n",
    "\n",
    "# These are the 2013 estimates as provided by Google searc hof \"population of ____\" on 1/8/2016\n",
    "\n",
    "populations = []\n",
    "populations.append({'country_name': 'France', 'population': 66030000})\n",
    "populations.append({'country_name': 'Netherlands', 'population': 16800000})\n",
    "populations.append({'country_name': 'India', 'population': 1252000000})\n",
    "populations.append({'country_name': 'South Africa', 'population': 52980000})\n",
    "populations.append({'country_name': 'Sweden', 'population': 9593000})\n",
    "populations.append({'country_name': 'Germany', 'population': 80620000})\n",
    "populations.append({'country_name': 'Canada', 'population': 35160000})\n",
    "populations.append({'country_name': 'United Kingdom', 'population': 64100000})\n",
    "populations.append({'country_name': 'Australia', 'population': 23130000})\n",
    "populations.append({'country_name': 'United States', 'population': 316500000})\n",
    "world_population = 7162119434\n",
    "s = 0\n",
    "for pop in populations:\n",
    "    s += pop['population']\n",
    "other = world_population - s\n",
    "populations.append({'country_name': 'Other', 'population': other})\n",
    "df2 = pd.DataFrame(populations)\n",
    "df = df.merge(df2)\n",
    "df['per_capita'] = df['total_downloads'] / df['population']"
   ]
  },
  {
   "cell_type": "code",
   "execution_count": 89,
   "metadata": {
    "_datascience": {},
    "collapsed": false
   },
   "outputs": [
    {
     "data": {
      "image/png": "[encoded data removed]",
      "text/plain": [
       "<matplotlib.figure.Figure at 0x7f1cc3b9c6d0>"
      ]
     },
     "metadata": {},
     "output_type": "display_data"
    }
   ],
   "source": [
    "df.sort('per_capita', inplace=True)\n",
    "df.index = np.arange(df.shape[0])\n",
    "plt.barh(df.index, df['per_capita'])\n",
    "plt.yticks(df.index+0.4, df['country_name'])\n",
    "plt.gca().yaxis.grid(False)\n",
    "plt.ylim(-.25, df.shape[0])\n",
    "plt.xlabel('Per capital downloads')\n",
    "plt.show()"
   ]
  },
  {
   "cell_type": "markdown",
   "metadata": {
    "_datascience": {}
   },
   "source": [
    "How interesting!  I could write a few pages about my thoughts on why this is, but for now, I'll let the data speak for itself.\n",
    "\n",
    "And a special thank you to my Australian and Swedish listeners!"
   ]
  }
 ],
 "metadata": {
  "_datascience": {},
  "kernelspec": {
   "display_name": "Python 2",
   "language": "python",
   "name": "python2"
  },
  "language_info": {
   "codemirror_mode": {
    "name": "ipython",
    "version": 2
   },
   "file_extension": ".py",
   "mimetype": "text/x-python",
   "name": "python",
   "nbconvert_exporter": "python",
   "pygments_lexer": "ipython2",
   "version": "2.7.6"
  }
 },
 "nbformat": 4,
 "nbformat_minor": 0
}
