{
 "cells": [
  {
   "cell_type": "markdown",
   "metadata": {},
   "source": [
    "This blog post is a code example that I also recorded a live video of which programatically selects a winner to a recent Data Skeptic contest run in collaboration with [DataSciGuide.com](http://datasciguide.com)."
   ]
  },
  {
   "cell_type": "code",
   "execution_count": 21,
   "metadata": {
    "collapsed": true
   },
   "outputs": [],
   "source": [
    "import os\n",
    "from twython import Twython\n",
    "import ConfigParser\n",
    "import random\n",
    "import bitlyapi\n",
    "from IPython.core.display import HTML"
   ]
  },
  {
   "cell_type": "code",
   "execution_count": 4,
   "metadata": {
    "collapsed": true
   },
   "outputs": [],
   "source": [
    "propertiesFile = \"my.properties\"\n",
    "cp = ConfigParser.ConfigParser()\n",
    "cp.readfp(open(propertiesFile))\n",
    "\n",
    "APP_KEY            = cp.get('Params', 'app_key')\n",
    "APP_SECRET         = cp.get('Params', 'app_secret')\n",
    "OAUTH_TOKEN        = cp.get('Params', 'oauth_token')\n",
    "OAUTH_TOKEN_SECRET = cp.get('Params', 'oauth_token_secret')\n",
    "\n",
    "twitter = Twython(APP_KEY, APP_SECRET, OAUTH_TOKEN, OAUTH_TOKEN_SECRET)"
   ]
  },
  {
   "cell_type": "code",
   "execution_count": 5,
   "metadata": {
    "collapsed": true
   },
   "outputs": [],
   "source": [
    "# GET ALL ENTRIES\n",
    "\n",
    "search = twitter.search(q='#WinDSBook')"
   ]
  },
  {
   "cell_type": "code",
   "execution_count": 7,
   "metadata": {
    "collapsed": false
   },
   "outputs": [],
   "source": [
    "tweets=search['statuses']"
   ]
  },
  {
   "cell_type": "code",
   "execution_count": 12,
   "metadata": {
    "collapsed": true
   },
   "outputs": [],
   "source": [
    "f = open('/dev/random', 'rb')\n",
    "truerandom = f.read(1)\n",
    "f.close()"
   ]
  },
  {
   "cell_type": "code",
   "execution_count": 13,
   "metadata": {
    "collapsed": false
   },
   "outputs": [
    {
     "data": {
      "text/plain": [
       "['0b11000001']"
      ]
     },
     "execution_count": 13,
     "metadata": {},
     "output_type": "execute_result"
    }
   ],
   "source": [
    "map(bin, bytearray(truerandom))"
   ]
  },
  {
   "cell_type": "code",
   "execution_count": 14,
   "metadata": {
    "collapsed": true
   },
   "outputs": [],
   "source": [
    "# TEST RUN\n",
    "i = random.randint(0, len(tweets))"
   ]
  },
  {
   "cell_type": "code",
   "execution_count": 15,
   "metadata": {
    "collapsed": false
   },
   "outputs": [
    {
     "data": {
      "text/plain": [
       "2"
      ]
     },
     "execution_count": 15,
     "metadata": {},
     "output_type": "execute_result"
    }
   ],
   "source": [
    "i"
   ]
  },
  {
   "cell_type": "code",
   "execution_count": 16,
   "metadata": {
    "collapsed": true
   },
   "outputs": [],
   "source": [
    "winner = tweets[i]"
   ]
  },
  {
   "cell_type": "code",
   "execution_count": 19,
   "metadata": {
    "collapsed": false
   },
   "outputs": [
    {
     "name": "stdout",
     "output_type": "stream",
     "text": [
      "Adam Jay\n",
      "01AdamJay\n",
      "Miami Beach, FL\n"
     ]
    }
   ],
   "source": [
    "print winner['user']['name']\n",
    "print winner['user']['screen_name']\n",
    "print winner['user']['location']"
   ]
  },
  {
   "cell_type": "code",
   "execution_count": 22,
   "metadata": {
    "collapsed": false
   },
   "outputs": [
    {
     "data": {
      "text/html": [
       "I reviewed an item on <a href=\"https://twitter.com/DataSciGuide\" class=\"twython-mention\">@DataSciGuide</a> to enter the <a href=\"https://twitter.com/DataSkeptic\" class=\"twython-mention\">@DataSkeptic</a> book giveaway! <a href=\"https://twitter.com/search?q=%23WinDSBook\" class=\"twython-hashtag\">#WinDSBook</a> Check out my review here: <a href=\"https://t.co/Pa1mlspYFA\" class=\"twython-url\">datasciguide.com/content/becomi…</a>"
      ],
      "text/plain": [
       "<IPython.core.display.HTML object>"
      ]
     },
     "execution_count": 22,
     "metadata": {},
     "output_type": "execute_result"
    }
   ],
   "source": [
    "HTML(Twython.html_for_tweet(winner))"
   ]
  },
  {
   "cell_type": "code",
   "execution_count": 25,
   "metadata": {
    "collapsed": false
   },
   "outputs": [
    {
     "data": {
      "text/plain": [
       "[{u'display_url': u'datasciguide.com/content/becomi\\u2026',\n",
       "  u'expanded_url': u'http://www.datasciguide.com/content/becoming-a-data-scientist/',\n",
       "  u'indices': [114, 137],\n",
       "  u'url': u'https://t.co/Pa1mlspYFA'}]"
      ]
     },
     "execution_count": 25,
     "metadata": {},
     "output_type": "execute_result"
    }
   ],
   "source": [
    "winner['entities']['urls']"
   ]
  },
  {
   "cell_type": "markdown",
   "metadata": {},
   "source": [
    "Congradulations to @01AdamJay for winning the Data Skeptic contest!  Please DM me your mailing address so I can ship you off a copy of Cameron's excellent book in print."
   ]
  }
 ],
 "metadata": {
  "kernelspec": {
   "display_name": "Python 2",
   "language": "python",
   "name": "python2"
  },
  "language_info": {
   "codemirror_mode": {
    "name": "ipython",
    "version": 2
   },
   "file_extension": ".py",
   "mimetype": "text/x-python",
   "name": "python",
   "nbconvert_exporter": "python",
   "pygments_lexer": "ipython2",
   "version": "2.7.9"
  }
 },
 "nbformat": 4,
 "nbformat_minor": 0
}
