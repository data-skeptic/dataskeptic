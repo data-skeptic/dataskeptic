{
 "cells": [
  {
   "cell_type": "markdown",
   "metadata": {
    "_datascience": {}
   },
   "source": [
    "# Pushing property information to the Data Skeptic Home Sales Project API\n",
    "\n",
    "Writing that title out makes me realize how poorly this project is named!  Perhaps some volunteer might take up the challenge of branding these efforts...\n",
    "\n",
    "In any event, I wanted to write up a quick blog post giving people a BARE BONES example, using Python, of how to push property data to the API.  The objective of this demo is to be accessible to anyone that can get Python running.  In time, a more formal module should be defined, but for now, let's keep it light weight."
   ]
  },
  {
   "cell_type": "code",
   "execution_count": 34,
   "metadata": {
    "ExecuteTime": {
     "end_time": "2016-04-05T03:03:43.787226",
     "start_time": "2016-04-05T03:03:43.784993"
    },
    "_datascience": {},
    "collapsed": true
   },
   "outputs": [],
   "source": [
    "import requests\n",
    "from datetime import datetime\n",
    "import json"
   ]
  },
  {
   "cell_type": "markdown",
   "metadata": {
    "_datascience": {}
   },
   "source": [
    "Right now the API is hosted on Heroku at the base URL shown below.  In time, this might be moved.  api.dataskeptic.com might be a better TLD, so I've called this out as a parameter."
   ]
  },
  {
   "cell_type": "code",
   "execution_count": 33,
   "metadata": {
    "ExecuteTime": {
     "end_time": "2016-04-05T03:02:14.525513",
     "start_time": "2016-04-05T03:02:14.523445"
    },
    "_datascience": {},
    "collapsed": true
   },
   "outputs": [],
   "source": [
    "baseurl = 'https://home-sales-data-api.herokuapp.com/'"
   ]
  },
  {
   "cell_type": "markdown",
   "metadata": {
    "_datascience": {}
   },
   "source": [
    "The requests package is great for calling straightforward RESTful APIs.  Since the request below is a simple GET request, you could make it in your browser if you'd like.  Let's ask the API for all listings."
   ]
  },
  {
   "cell_type": "code",
   "execution_count": 35,
   "metadata": {
    "ExecuteTime": {
     "end_time": "2016-04-05T03:03:52.708714",
     "start_time": "2016-04-05T03:03:52.004378"
    },
    "_datascience": {},
    "collapsed": false
   },
   "outputs": [],
   "source": [
    "r = requests.get(baseurl + '/api/property')"
   ]
  },
  {
   "cell_type": "code",
   "execution_count": 38,
   "metadata": {
    "ExecuteTime": {
     "end_time": "2016-04-05T03:04:11.892764",
     "start_time": "2016-04-05T03:04:11.889880"
    },
    "_datascience": {},
    "collapsed": false
   },
   "outputs": [
    {
     "name": "stdout",
     "output_type": "stream",
     "text": [
      "[{u'geocoded_address': u'123 Main St, Schenevus, NY 12155, USA', u'bathrooms': 2.0, u'features': [], u'upload_timestamp': u'2016-04-05T02:46:50.380670Z', u'listing_timestamp': u'2016-03-31T21:09:00Z', u'building_size': 1400.0, u'price': 123456.0, u'bedrooms': 3.0, u'size_units': u'M', u'car_spaces': 1.0, u'raw_address': u'123 Main St.', u'listing_type': u'F', u'land_size': 2000.0, u'id': 1}, {u'geocoded_address': u'123 Test Rd, Richmond, IN 47374, USA', u'bathrooms': 0.0, u'features': [], u'upload_timestamp': u'2016-04-05T02:57:20.785874Z', u'listing_timestamp': u'2016-04-05T02:57:20.059246Z', u'building_size': 10.0, u'price': 1.0, u'bedrooms': 0.0, u'size_units': u'M', u'car_spaces': None, u'raw_address': u'123 Test Ave', u'listing_type': u'F', u'land_size': 20.0, u'id': 2}]\n"
     ]
    }
   ],
   "source": [
    "response = json.loads(r.content)\n",
    "print(response)"
   ]
  },
  {
   "cell_type": "markdown",
   "metadata": {
    "ExecuteTime": {
     "end_time": "2016-04-05T02:50:56.049891",
     "start_time": "2016-04-05T02:50:56.046314"
    },
    "_datascience": {}
   },
   "source": [
    "Clearly, I'm writing this blog post in early days of the API as I only found a few listings, all of which appear to be tests.  But that's ok, my next post will be about getting some actual data into the API so I can do more interesting things.\n",
    "\n",
    "As a next step, let's push in one more test property, so you can see how the upload happens."
   ]
  },
  {
   "cell_type": "code",
   "execution_count": 41,
   "metadata": {
    "ExecuteTime": {
     "end_time": "2016-04-05T03:08:09.141169",
     "start_time": "2016-04-05T03:08:09.135460"
    },
    "_datascience": {},
    "collapsed": false
   },
   "outputs": [],
   "source": [
    "# Defining a few variables explicitly\n",
    "\n",
    "price = 1\n",
    "bedrooms = 0\n",
    "bathrooms = 0\n",
    "car_spaces = None\n",
    "building_size = 10\n",
    "land_size = 20\n",
    "size_units = 'M' # metric\n",
    "raw_address = '123 Test Ave'\n",
    "\n",
    "# This is the actual request we want to send in JSON format to the server.\n",
    "request = {\n",
    "    \"listing_timestamp\": str(datetime.now()),\n",
    "    \"listing_type\": 'F', # for sale\n",
    "    \"price\": price,\n",
    "    \"bedrooms\": bedrooms,\n",
    "    \"bathrooms\": bathrooms,\n",
    "    \"car_spaces\": car_spaces,\n",
    "    \"building_size\": building_size,\n",
    "    \"land_size\": land_size,\n",
    "    \"size_units\": size_units,\n",
    "    \"raw_address\": raw_address,\n",
    "    \"features\": []\n",
    "}"
   ]
  },
  {
   "cell_type": "code",
   "execution_count": 42,
   "metadata": {
    "ExecuteTime": {
     "end_time": "2016-04-05T03:08:20.860730",
     "start_time": "2016-04-05T03:08:10.183042"
    },
    "_datascience": {},
    "collapsed": false
   },
   "outputs": [
    {
     "name": "stdout",
     "output_type": "stream",
     "text": [
      "{\"id\":3,\"upload_timestamp\":\"2016-04-05T03:08:21.202776Z\",\"listing_timestamp\":\"2016-04-05T03:08:09.140107Z\",\"listing_type\":\"F\",\"price\":1.0,\"bedrooms\":0.0,\"bathrooms\":0.0,\"car_spaces\":null,\"building_size\":10.0,\"land_size\":20.0,\"size_units\":\"M\",\"raw_address\":\"123 Test Ave\",\"geocoded_address\":\"123 Test Rd, Richmond, IN 47374, USA\",\"features\":[]}\n"
     ]
    }
   ],
   "source": [
    "# Let's send that request to the API, and see what response we get back\n",
    "r = requests.post(baseurl + '/api/property/', data = request)\n",
    "print(r.content)"
   ]
  },
  {
   "cell_type": "markdown",
   "metadata": {
    "_datascience": {}
   },
   "source": [
    "Looks like our upload was successful.  Let's request all listings and check that the one with this ID is there and matches our address."
   ]
  },
  {
   "cell_type": "code",
   "execution_count": 43,
   "metadata": {
    "ExecuteTime": {
     "end_time": "2016-04-05T03:09:27.866344",
     "start_time": "2016-04-05T03:09:27.210972"
    },
    "_datascience": {},
    "collapsed": true
   },
   "outputs": [],
   "source": [
    "r = requests.get(baseurl + '/api/property')\n",
    "resp = json.loads(r.content)"
   ]
  },
  {
   "cell_type": "code",
   "execution_count": 46,
   "metadata": {
    "ExecuteTime": {
     "end_time": "2016-04-05T03:10:18.588799",
     "start_time": "2016-04-05T03:10:18.584880"
    },
    "_datascience": {},
    "collapsed": false
   },
   "outputs": [
    {
     "name": "stdout",
     "output_type": "stream",
     "text": [
      "True\n"
     ]
    }
   ],
   "source": [
    "success = False\n",
    "for prop in resp:\n",
    "    if prop['id']==3:\n",
    "        if prop['raw_address']==raw_address:\n",
    "            success=True\n",
    "print success"
   ]
  },
  {
   "cell_type": "markdown",
   "metadata": {
    "_datascience": {}
   },
   "source": [
    "That's literally it to submit a new listing.  I did not get into properties (like having a pool), but my goal of presenting a very basic MVP for others to follow seems to be complete here.\n",
    "\n",
    "My vision is that independent contributors can start finding data sources and pushing data to the API.  As their implementations mature, I will set up a formal process for sending pull requests to merge their code into a repository that tracks all sufficiently developed integrations.  Those integrations can then be run centrally, but maintained independently by the community via pull requests."
   ]
  }
 ],
 "metadata": {
  "_datascience": {},
  "kernelspec": {
   "display_name": "Python 2",
   "language": "python",
   "name": "python2"
  },
  "language_info": {
   "codemirror_mode": {
    "name": "ipython",
    "version": 2
   },
   "file_extension": ".py",
   "mimetype": "text/x-python",
   "name": "python",
   "nbconvert_exporter": "python",
   "pygments_lexer": "ipython2",
   "version": "2.7.6"
  }
 },
 "nbformat": 4,
 "nbformat_minor": 0
}
